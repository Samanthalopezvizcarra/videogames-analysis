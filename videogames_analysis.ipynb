{
 "cells": [
  {
   "cell_type": "markdown",
   "metadata": {
    "tags": [
     "e5c1f0c2-db9f-43a0-99b9-4875c52427e8"
    ]
   },
   "source": [
    "# Análisis exploratorio de datos de videojuegos"
   ]
  },
  {
   "cell_type": "markdown",
   "metadata": {},
   "source": [
    "Samantha López Vizcarra"
   ]
  },
  {
   "cell_type": "markdown",
   "metadata": {},
   "source": [
    "## Inicialización"
   ]
  },
  {
   "cell_type": "code",
   "execution_count": 1,
   "metadata": {},
   "outputs": [],
   "source": [
    "# Cargar librerias\n",
    "import pandas as pd\n",
    "import numpy as np\n",
    "import matplotlib.pyplot as plt\n",
    "import seaborn as sns\n",
    "from scipy import stats as st"
   ]
  },
  {
   "cell_type": "code",
   "execution_count": 2,
   "metadata": {},
   "outputs": [],
   "source": [
    "# Cargar los datos\n",
    "games = pd.read_csv(\"/datasets/games.csv\")"
   ]
  },
  {
   "cell_type": "code",
   "execution_count": 3,
   "metadata": {
    "scrolled": true
   },
   "outputs": [
    {
     "name": "stdout",
     "output_type": "stream",
     "text": [
      "<class 'pandas.core.frame.DataFrame'>\n",
      "RangeIndex: 16715 entries, 0 to 16714\n",
      "Data columns (total 11 columns):\n",
      " #   Column           Non-Null Count  Dtype  \n",
      "---  ------           --------------  -----  \n",
      " 0   Name             16713 non-null  object \n",
      " 1   Platform         16715 non-null  object \n",
      " 2   Year_of_Release  16446 non-null  float64\n",
      " 3   Genre            16713 non-null  object \n",
      " 4   NA_sales         16715 non-null  float64\n",
      " 5   EU_sales         16715 non-null  float64\n",
      " 6   JP_sales         16715 non-null  float64\n",
      " 7   Other_sales      16715 non-null  float64\n",
      " 8   Critic_Score     8137 non-null   float64\n",
      " 9   User_Score       10014 non-null  object \n",
      " 10  Rating           9949 non-null   object \n",
      "dtypes: float64(6), object(5)\n",
      "memory usage: 1.4+ MB\n"
     ]
    }
   ],
   "source": [
    "games.info()"
   ]
  },
  {
   "cell_type": "code",
   "execution_count": 4,
   "metadata": {},
   "outputs": [
    {
     "data": {
      "text/html": [
       "<div>\n",
       "<style scoped>\n",
       "    .dataframe tbody tr th:only-of-type {\n",
       "        vertical-align: middle;\n",
       "    }\n",
       "\n",
       "    .dataframe tbody tr th {\n",
       "        vertical-align: top;\n",
       "    }\n",
       "\n",
       "    .dataframe thead th {\n",
       "        text-align: right;\n",
       "    }\n",
       "</style>\n",
       "<table border=\"1\" class=\"dataframe\">\n",
       "  <thead>\n",
       "    <tr style=\"text-align: right;\">\n",
       "      <th></th>\n",
       "      <th>Name</th>\n",
       "      <th>Platform</th>\n",
       "      <th>Year_of_Release</th>\n",
       "      <th>Genre</th>\n",
       "      <th>NA_sales</th>\n",
       "      <th>EU_sales</th>\n",
       "      <th>JP_sales</th>\n",
       "      <th>Other_sales</th>\n",
       "      <th>Critic_Score</th>\n",
       "      <th>User_Score</th>\n",
       "      <th>Rating</th>\n",
       "    </tr>\n",
       "  </thead>\n",
       "  <tbody>\n",
       "    <tr>\n",
       "      <th>0</th>\n",
       "      <td>Wii Sports</td>\n",
       "      <td>Wii</td>\n",
       "      <td>2006.0</td>\n",
       "      <td>Sports</td>\n",
       "      <td>41.36</td>\n",
       "      <td>28.96</td>\n",
       "      <td>3.77</td>\n",
       "      <td>8.45</td>\n",
       "      <td>76.0</td>\n",
       "      <td>8</td>\n",
       "      <td>E</td>\n",
       "    </tr>\n",
       "    <tr>\n",
       "      <th>1</th>\n",
       "      <td>Super Mario Bros.</td>\n",
       "      <td>NES</td>\n",
       "      <td>1985.0</td>\n",
       "      <td>Platform</td>\n",
       "      <td>29.08</td>\n",
       "      <td>3.58</td>\n",
       "      <td>6.81</td>\n",
       "      <td>0.77</td>\n",
       "      <td>NaN</td>\n",
       "      <td>NaN</td>\n",
       "      <td>NaN</td>\n",
       "    </tr>\n",
       "    <tr>\n",
       "      <th>2</th>\n",
       "      <td>Mario Kart Wii</td>\n",
       "      <td>Wii</td>\n",
       "      <td>2008.0</td>\n",
       "      <td>Racing</td>\n",
       "      <td>15.68</td>\n",
       "      <td>12.76</td>\n",
       "      <td>3.79</td>\n",
       "      <td>3.29</td>\n",
       "      <td>82.0</td>\n",
       "      <td>8.3</td>\n",
       "      <td>E</td>\n",
       "    </tr>\n",
       "    <tr>\n",
       "      <th>3</th>\n",
       "      <td>Wii Sports Resort</td>\n",
       "      <td>Wii</td>\n",
       "      <td>2009.0</td>\n",
       "      <td>Sports</td>\n",
       "      <td>15.61</td>\n",
       "      <td>10.93</td>\n",
       "      <td>3.28</td>\n",
       "      <td>2.95</td>\n",
       "      <td>80.0</td>\n",
       "      <td>8</td>\n",
       "      <td>E</td>\n",
       "    </tr>\n",
       "    <tr>\n",
       "      <th>4</th>\n",
       "      <td>Pokemon Red/Pokemon Blue</td>\n",
       "      <td>GB</td>\n",
       "      <td>1996.0</td>\n",
       "      <td>Role-Playing</td>\n",
       "      <td>11.27</td>\n",
       "      <td>8.89</td>\n",
       "      <td>10.22</td>\n",
       "      <td>1.00</td>\n",
       "      <td>NaN</td>\n",
       "      <td>NaN</td>\n",
       "      <td>NaN</td>\n",
       "    </tr>\n",
       "    <tr>\n",
       "      <th>5</th>\n",
       "      <td>Tetris</td>\n",
       "      <td>GB</td>\n",
       "      <td>1989.0</td>\n",
       "      <td>Puzzle</td>\n",
       "      <td>23.20</td>\n",
       "      <td>2.26</td>\n",
       "      <td>4.22</td>\n",
       "      <td>0.58</td>\n",
       "      <td>NaN</td>\n",
       "      <td>NaN</td>\n",
       "      <td>NaN</td>\n",
       "    </tr>\n",
       "    <tr>\n",
       "      <th>6</th>\n",
       "      <td>New Super Mario Bros.</td>\n",
       "      <td>DS</td>\n",
       "      <td>2006.0</td>\n",
       "      <td>Platform</td>\n",
       "      <td>11.28</td>\n",
       "      <td>9.14</td>\n",
       "      <td>6.50</td>\n",
       "      <td>2.88</td>\n",
       "      <td>89.0</td>\n",
       "      <td>8.5</td>\n",
       "      <td>E</td>\n",
       "    </tr>\n",
       "    <tr>\n",
       "      <th>7</th>\n",
       "      <td>Wii Play</td>\n",
       "      <td>Wii</td>\n",
       "      <td>2006.0</td>\n",
       "      <td>Misc</td>\n",
       "      <td>13.96</td>\n",
       "      <td>9.18</td>\n",
       "      <td>2.93</td>\n",
       "      <td>2.84</td>\n",
       "      <td>58.0</td>\n",
       "      <td>6.6</td>\n",
       "      <td>E</td>\n",
       "    </tr>\n",
       "    <tr>\n",
       "      <th>8</th>\n",
       "      <td>New Super Mario Bros. Wii</td>\n",
       "      <td>Wii</td>\n",
       "      <td>2009.0</td>\n",
       "      <td>Platform</td>\n",
       "      <td>14.44</td>\n",
       "      <td>6.94</td>\n",
       "      <td>4.70</td>\n",
       "      <td>2.24</td>\n",
       "      <td>87.0</td>\n",
       "      <td>8.4</td>\n",
       "      <td>E</td>\n",
       "    </tr>\n",
       "    <tr>\n",
       "      <th>9</th>\n",
       "      <td>Duck Hunt</td>\n",
       "      <td>NES</td>\n",
       "      <td>1984.0</td>\n",
       "      <td>Shooter</td>\n",
       "      <td>26.93</td>\n",
       "      <td>0.63</td>\n",
       "      <td>0.28</td>\n",
       "      <td>0.47</td>\n",
       "      <td>NaN</td>\n",
       "      <td>NaN</td>\n",
       "      <td>NaN</td>\n",
       "    </tr>\n",
       "  </tbody>\n",
       "</table>\n",
       "</div>"
      ],
      "text/plain": [
       "                        Name Platform  Year_of_Release         Genre  \\\n",
       "0                 Wii Sports      Wii           2006.0        Sports   \n",
       "1          Super Mario Bros.      NES           1985.0      Platform   \n",
       "2             Mario Kart Wii      Wii           2008.0        Racing   \n",
       "3          Wii Sports Resort      Wii           2009.0        Sports   \n",
       "4   Pokemon Red/Pokemon Blue       GB           1996.0  Role-Playing   \n",
       "5                     Tetris       GB           1989.0        Puzzle   \n",
       "6      New Super Mario Bros.       DS           2006.0      Platform   \n",
       "7                   Wii Play      Wii           2006.0          Misc   \n",
       "8  New Super Mario Bros. Wii      Wii           2009.0      Platform   \n",
       "9                  Duck Hunt      NES           1984.0       Shooter   \n",
       "\n",
       "   NA_sales  EU_sales  JP_sales  Other_sales  Critic_Score User_Score Rating  \n",
       "0     41.36     28.96      3.77         8.45          76.0          8      E  \n",
       "1     29.08      3.58      6.81         0.77           NaN        NaN    NaN  \n",
       "2     15.68     12.76      3.79         3.29          82.0        8.3      E  \n",
       "3     15.61     10.93      3.28         2.95          80.0          8      E  \n",
       "4     11.27      8.89     10.22         1.00           NaN        NaN    NaN  \n",
       "5     23.20      2.26      4.22         0.58           NaN        NaN    NaN  \n",
       "6     11.28      9.14      6.50         2.88          89.0        8.5      E  \n",
       "7     13.96      9.18      2.93         2.84          58.0        6.6      E  \n",
       "8     14.44      6.94      4.70         2.24          87.0        8.4      E  \n",
       "9     26.93      0.63      0.28         0.47           NaN        NaN    NaN  "
      ]
     },
     "execution_count": 4,
     "metadata": {},
     "output_type": "execute_result"
    }
   ],
   "source": [
    "games.head(10)"
   ]
  },
  {
   "cell_type": "markdown",
   "metadata": {},
   "source": [
    "## Limpieza de datos"
   ]
  },
  {
   "cell_type": "markdown",
   "metadata": {},
   "source": [
    "### Títulos en minúscula"
   ]
  },
  {
   "cell_type": "code",
   "execution_count": 5,
   "metadata": {},
   "outputs": [],
   "source": [
    "# Limpiar títulos\n",
    "def clean_title (title):\n",
    "    return title.lower().replace(\" \", \"_\")\n",
    "\n",
    "games = games.rename(columns = clean_title)"
   ]
  },
  {
   "cell_type": "markdown",
   "metadata": {},
   "source": [
    "### Corregir tipos de variables"
   ]
  },
  {
   "cell_type": "markdown",
   "metadata": {},
   "source": [
    "- year_of_release de float a int\n",
    "- genre de object a category\n",
    "- critic_score de float a int (verificar si no hay decimales)\n",
    "- user_score de object a float\n",
    "- rating de object a category"
   ]
  },
  {
   "cell_type": "code",
   "execution_count": 6,
   "metadata": {},
   "outputs": [],
   "source": [
    "# Función para pasar de object a category\n",
    "def obj_to_cat (column, db = games):\n",
    "    db[column] = db[column].astype('category')\n",
    "\n",
    "# genre\n",
    "obj_to_cat('genre')\n",
    "\n",
    "# rating\n",
    "obj_to_cat('rating')"
   ]
  },
  {
   "cell_type": "code",
   "execution_count": 7,
   "metadata": {},
   "outputs": [],
   "source": [
    "# year_of_release de float a int\n",
    "games['year_of_release'] = games['year_of_release'].astype('Int64')"
   ]
  },
  {
   "cell_type": "code",
   "execution_count": 8,
   "metadata": {},
   "outputs": [
    {
     "data": {
      "text/plain": [
       "False"
      ]
     },
     "execution_count": 8,
     "metadata": {},
     "output_type": "execute_result"
    }
   ],
   "source": [
    "# critic_score de float a int (verificar si no hay decimales)\n",
    "np.array_equal(games['critic_score'].astype('Int64'), games['critic_score'])"
   ]
  },
  {
   "cell_type": "code",
   "execution_count": 9,
   "metadata": {},
   "outputs": [
    {
     "name": "stdout",
     "output_type": "stream",
     "text": [
      "<class 'pandas.core.frame.DataFrame'>\n",
      "RangeIndex: 16715 entries, 0 to 16714\n",
      "Data columns (total 11 columns):\n",
      " #   Column           Non-Null Count  Dtype   \n",
      "---  ------           --------------  -----   \n",
      " 0   name             16713 non-null  object  \n",
      " 1   platform         16715 non-null  object  \n",
      " 2   year_of_release  16446 non-null  Int64   \n",
      " 3   genre            16713 non-null  category\n",
      " 4   na_sales         16715 non-null  float64 \n",
      " 5   eu_sales         16715 non-null  float64 \n",
      " 6   jp_sales         16715 non-null  float64 \n",
      " 7   other_sales      16715 non-null  float64 \n",
      " 8   critic_score     8137 non-null   float64 \n",
      " 9   user_score       7590 non-null   float64 \n",
      " 10  rating           9949 non-null   category\n",
      "dtypes: Int64(1), category(2), float64(6), object(2)\n",
      "memory usage: 1.2+ MB\n"
     ]
    }
   ],
   "source": [
    "# user_score de object a float \n",
    "games['user_score'] = pd.to_numeric(games['user_score'], errors='coerce')\n",
    "\n",
    "games.head(10)\n",
    "games.info()"
   ]
  },
  {
   "cell_type": "markdown",
   "metadata": {},
   "source": [
    "### Valores ausentes"
   ]
  },
  {
   "cell_type": "markdown",
   "metadata": {},
   "source": [
    "#### name"
   ]
  },
  {
   "cell_type": "markdown",
   "metadata": {},
   "source": [
    "- pudieron ser valores que se olvidaron ingresar o borraron por error.\n",
    "- solo son dos campos"
   ]
  },
  {
   "cell_type": "code",
   "execution_count": 10,
   "metadata": {
    "scrolled": true
   },
   "outputs": [
    {
     "data": {
      "text/html": [
       "<div>\n",
       "<style scoped>\n",
       "    .dataframe tbody tr th:only-of-type {\n",
       "        vertical-align: middle;\n",
       "    }\n",
       "\n",
       "    .dataframe tbody tr th {\n",
       "        vertical-align: top;\n",
       "    }\n",
       "\n",
       "    .dataframe thead th {\n",
       "        text-align: right;\n",
       "    }\n",
       "</style>\n",
       "<table border=\"1\" class=\"dataframe\">\n",
       "  <thead>\n",
       "    <tr style=\"text-align: right;\">\n",
       "      <th></th>\n",
       "      <th>name</th>\n",
       "      <th>platform</th>\n",
       "      <th>year_of_release</th>\n",
       "      <th>genre</th>\n",
       "      <th>na_sales</th>\n",
       "      <th>eu_sales</th>\n",
       "      <th>jp_sales</th>\n",
       "      <th>other_sales</th>\n",
       "      <th>critic_score</th>\n",
       "      <th>user_score</th>\n",
       "      <th>rating</th>\n",
       "    </tr>\n",
       "  </thead>\n",
       "  <tbody>\n",
       "    <tr>\n",
       "      <th>659</th>\n",
       "      <td>NaN</td>\n",
       "      <td>GEN</td>\n",
       "      <td>1993</td>\n",
       "      <td>NaN</td>\n",
       "      <td>1.78</td>\n",
       "      <td>0.53</td>\n",
       "      <td>0.00</td>\n",
       "      <td>0.08</td>\n",
       "      <td>NaN</td>\n",
       "      <td>NaN</td>\n",
       "      <td>NaN</td>\n",
       "    </tr>\n",
       "    <tr>\n",
       "      <th>14244</th>\n",
       "      <td>NaN</td>\n",
       "      <td>GEN</td>\n",
       "      <td>1993</td>\n",
       "      <td>NaN</td>\n",
       "      <td>0.00</td>\n",
       "      <td>0.00</td>\n",
       "      <td>0.03</td>\n",
       "      <td>0.00</td>\n",
       "      <td>NaN</td>\n",
       "      <td>NaN</td>\n",
       "      <td>NaN</td>\n",
       "    </tr>\n",
       "  </tbody>\n",
       "</table>\n",
       "</div>"
      ],
      "text/plain": [
       "      name platform  year_of_release genre  na_sales  eu_sales  jp_sales  \\\n",
       "659    NaN      GEN             1993   NaN      1.78      0.53      0.00   \n",
       "14244  NaN      GEN             1993   NaN      0.00      0.00      0.03   \n",
       "\n",
       "       other_sales  critic_score  user_score rating  \n",
       "659           0.08           NaN         NaN    NaN  \n",
       "14244         0.00           NaN         NaN    NaN  "
      ]
     },
     "execution_count": 10,
     "metadata": {},
     "output_type": "execute_result"
    }
   ],
   "source": [
    "games[games['name'].isna()]"
   ]
  },
  {
   "cell_type": "markdown",
   "metadata": {},
   "source": [
    "- Notamos que son datos muy viejos y no proporcionan informaión\n",
    "- Borramos los datos"
   ]
  },
  {
   "cell_type": "code",
   "execution_count": 11,
   "metadata": {},
   "outputs": [
    {
     "name": "stdout",
     "output_type": "stream",
     "text": [
      "<class 'pandas.core.frame.DataFrame'>\n",
      "Int64Index: 16713 entries, 0 to 16714\n",
      "Data columns (total 11 columns):\n",
      " #   Column           Non-Null Count  Dtype   \n",
      "---  ------           --------------  -----   \n",
      " 0   name             16713 non-null  object  \n",
      " 1   platform         16713 non-null  object  \n",
      " 2   year_of_release  16444 non-null  Int64   \n",
      " 3   genre            16713 non-null  category\n",
      " 4   na_sales         16713 non-null  float64 \n",
      " 5   eu_sales         16713 non-null  float64 \n",
      " 6   jp_sales         16713 non-null  float64 \n",
      " 7   other_sales      16713 non-null  float64 \n",
      " 8   critic_score     8137 non-null   float64 \n",
      " 9   user_score       7590 non-null   float64 \n",
      " 10  rating           9949 non-null   category\n",
      "dtypes: Int64(1), category(2), float64(6), object(2)\n",
      "memory usage: 1.3+ MB\n"
     ]
    }
   ],
   "source": [
    "games = games.dropna(subset=['name'])\n",
    "\n",
    "games.info()"
   ]
  },
  {
   "cell_type": "markdown",
   "metadata": {},
   "source": [
    "#### year of release"
   ]
  },
  {
   "cell_type": "markdown",
   "metadata": {},
   "source": [
    "- pudieron ser valores que se olvidaron ingresar, borraron por error o no existe tal información\n",
    "- dejamos los campos vacíos"
   ]
  },
  {
   "cell_type": "markdown",
   "metadata": {},
   "source": [
    "#### critic score"
   ]
  },
  {
   "cell_type": "markdown",
   "metadata": {},
   "source": [
    "- pudieron ser calificaciones que no se dieron, se olvidaron ingresar o borraron\n",
    "- dejamos los campos vacíos, no podemos justificar rellenar con la media o mediana puesto que son juegos muy diferentes con características diferentes y de amplia variedad"
   ]
  },
  {
   "cell_type": "markdown",
   "metadata": {},
   "source": [
    "#### user score"
   ]
  },
  {
   "cell_type": "markdown",
   "metadata": {},
   "source": [
    "- pudieron ser calificaciones que no se dieron, se olvidaron ingresar o borraron\n",
    "- dejamos los campos vacíos, no podemos justificar rellenar con la media o mediana puesto que son juegos muy diferentes con características diferentes y de amplia variedad"
   ]
  },
  {
   "cell_type": "markdown",
   "metadata": {},
   "source": [
    "#### rating"
   ]
  },
  {
   "cell_type": "markdown",
   "metadata": {},
   "source": [
    "- pudieron ser datos que se olvidaron ingresar o borraron \n",
    "- puede ser que los juegos no tengan una clasificación específica\n",
    "- rellenamos con \"No rating\""
   ]
  },
  {
   "cell_type": "code",
   "execution_count": 12,
   "metadata": {},
   "outputs": [
    {
     "name": "stderr",
     "output_type": "stream",
     "text": [
      "/tmp/ipykernel_66/2173886043.py:2: SettingWithCopyWarning: \n",
      "A value is trying to be set on a copy of a slice from a DataFrame.\n",
      "Try using .loc[row_indexer,col_indexer] = value instead\n",
      "\n",
      "See the caveats in the documentation: https://pandas.pydata.org/pandas-docs/stable/user_guide/indexing.html#returning-a-view-versus-a-copy\n",
      "  games['rating'] = games['rating'].cat.add_categories('No rating')\n",
      "/tmp/ipykernel_66/2173886043.py:5: SettingWithCopyWarning: \n",
      "A value is trying to be set on a copy of a slice from a DataFrame.\n",
      "Try using .loc[row_indexer,col_indexer] = value instead\n",
      "\n",
      "See the caveats in the documentation: https://pandas.pydata.org/pandas-docs/stable/user_guide/indexing.html#returning-a-view-versus-a-copy\n",
      "  games['rating'] = games['rating'].fillna('No rating')\n"
     ]
    }
   ],
   "source": [
    "# agregar categoría\n",
    "games['rating'] = games['rating'].cat.add_categories('No rating')\n",
    "\n",
    "# completar valores ausentes\n",
    "games['rating'] = games['rating'].fillna('No rating')"
   ]
  },
  {
   "cell_type": "code",
   "execution_count": 13,
   "metadata": {
    "scrolled": true
   },
   "outputs": [
    {
     "name": "stdout",
     "output_type": "stream",
     "text": [
      "<class 'pandas.core.frame.DataFrame'>\n",
      "Int64Index: 16713 entries, 0 to 16714\n",
      "Data columns (total 11 columns):\n",
      " #   Column           Non-Null Count  Dtype   \n",
      "---  ------           --------------  -----   \n",
      " 0   name             16713 non-null  object  \n",
      " 1   platform         16713 non-null  object  \n",
      " 2   year_of_release  16444 non-null  Int64   \n",
      " 3   genre            16713 non-null  category\n",
      " 4   na_sales         16713 non-null  float64 \n",
      " 5   eu_sales         16713 non-null  float64 \n",
      " 6   jp_sales         16713 non-null  float64 \n",
      " 7   other_sales      16713 non-null  float64 \n",
      " 8   critic_score     8137 non-null   float64 \n",
      " 9   user_score       7590 non-null   float64 \n",
      " 10  rating           16713 non-null  category\n",
      "dtypes: Int64(1), category(2), float64(6), object(2)\n",
      "memory usage: 1.3+ MB\n"
     ]
    }
   ],
   "source": [
    "games.info()"
   ]
  },
  {
   "cell_type": "markdown",
   "metadata": {},
   "source": [
    "### Ingeniería de características"
   ]
  },
  {
   "cell_type": "markdown",
   "metadata": {},
   "source": [
    "#### Ventas totales"
   ]
  },
  {
   "cell_type": "code",
   "execution_count": 14,
   "metadata": {},
   "outputs": [
    {
     "name": "stderr",
     "output_type": "stream",
     "text": [
      "/tmp/ipykernel_66/1858785973.py:1: SettingWithCopyWarning: \n",
      "A value is trying to be set on a copy of a slice from a DataFrame.\n",
      "Try using .loc[row_indexer,col_indexer] = value instead\n",
      "\n",
      "See the caveats in the documentation: https://pandas.pydata.org/pandas-docs/stable/user_guide/indexing.html#returning-a-view-versus-a-copy\n",
      "  games['total_sales'] = games['na_sales'] + games['eu_sales'] + games['jp_sales'] + games['other_sales']\n"
     ]
    }
   ],
   "source": [
    "games['total_sales'] = games['na_sales'] + games['eu_sales'] + games['jp_sales'] + games['other_sales']"
   ]
  },
  {
   "cell_type": "markdown",
   "metadata": {},
   "source": [
    "## Análisis de datos"
   ]
  },
  {
   "cell_type": "markdown",
   "metadata": {},
   "source": [
    "### Lanzamiento de juegos por años"
   ]
  },
  {
   "cell_type": "code",
   "execution_count": 15,
   "metadata": {},
   "outputs": [
    {
     "data": {
      "image/png": "[encoded data removed]",
      "text/plain": [
       "<Figure size 1500x600 with 1 Axes>"
      ]
     },
     "metadata": {},
     "output_type": "display_data"
    }
   ],
   "source": [
    "# Juegos por años\n",
    "# Agrupar y graficar\n",
    "games.groupby('year_of_release')['name'].count().plot(kind='bar',\n",
    "                                                      title='Juegos lanzados por año',\n",
    "                                                      xlabel='Año',\n",
    "                                                      ylabel='Cantidad de juegos',\n",
    "                                                      figsize=(15,6),\n",
    "                                                      grid=True)\n",
    "plt.show()"
   ]
  },
  {
   "cell_type": "markdown",
   "metadata": {},
   "source": [
    "De los años 1980 a 1993 la cantidad de juegos lanzados es menor a 100, lo que podría no ser significativo. Aunque también es necesario tomar en cuenta que, debido a la naturaleza de los años es lógico que no hayan existido tantos lanzamientos o que no se tenga registro de ellos."
   ]
  },
  {
   "cell_type": "markdown",
   "metadata": {},
   "source": [
    "### Variación de ventas entre plataforma"
   ]
  },
  {
   "cell_type": "markdown",
   "metadata": {},
   "source": [
    "#### Ventas en cada plataforma"
   ]
  },
  {
   "cell_type": "code",
   "execution_count": 16,
   "metadata": {},
   "outputs": [
    {
     "data": {
      "image/png": "[encoded data removed]",
      "text/plain": [
       "<Figure size 1500x600 with 1 Axes>"
      ]
     },
     "metadata": {},
     "output_type": "display_data"
    }
   ],
   "source": [
    "# Ventas por plataforma\n",
    "games.groupby('platform')['total_sales'].sum().sort_values(ascending=False).plot(kind='bar', \n",
    "                                                                                 title='Total de ventas por plataforma',\n",
    "                                                                                 xlabel='Plataforma',\n",
    "                                                                                 ylabel='Ventas (millones USD)',\n",
    "                                                                                 figsize=(15, 6),\n",
    "                                                                                 grid=True)\n",
    "plt.show()"
   ]
  },
  {
   "cell_type": "markdown",
   "metadata": {},
   "source": [
    "#### Distribución por año de plataformas con más ventas"
   ]
  },
  {
   "cell_type": "code",
   "execution_count": 17,
   "metadata": {},
   "outputs": [
    {
     "name": "stdout",
     "output_type": "stream",
     "text": [
      "platform\n",
      "PS2     1255.77\n",
      "X360     971.42\n",
      "PS3      939.65\n",
      "Wii      907.51\n",
      "DS       806.12\n",
      "Name: total_sales, dtype: float64\n"
     ]
    }
   ],
   "source": [
    "# Elegir las plataformas con más ventas\n",
    "top_sales = games.groupby('platform')['total_sales'].sum().sort_values(ascending=False).head(5)\n",
    "\n",
    "print(top_sales)"
   ]
  },
  {
   "cell_type": "code",
   "execution_count": 18,
   "metadata": {},
   "outputs": [
    {
     "data": {
      "image/png": "[encoded data removed]",
      "text/plain": [
       "<Figure size 1500x600 with 1 Axes>"
      ]
     },
     "metadata": {},
     "output_type": "display_data"
    }
   ],
   "source": [
    "games_top_sales = games[games['platform'].isin(top_sales.index)]\n",
    "pivot_top_sales = games_top_sales.pivot_table(columns='platform', index='year_of_release', values='total_sales', aggfunc='sum')\n",
    "# print(pivot_top_sales)\n",
    "\n",
    "pivot_top_sales.plot(kind='bar',\n",
    "                     figsize=(15,6),\n",
    "                     title='Distribución por año de plataformas con más ventas',\n",
    "                     xlabel='Año',\n",
    "                     ylabel='Ventas (millones USD)',\n",
    "                     grid=True)\n",
    "plt.legend(title='Plataforma')\n",
    "plt.show()"
   ]
  },
  {
   "cell_type": "markdown",
   "metadata": {},
   "source": [
    "#### Plataformas que solían ser populares pero que ahora no tienen ventas"
   ]
  },
  {
   "cell_type": "code",
   "execution_count": 19,
   "metadata": {},
   "outputs": [
    {
     "name": "stdout",
     "output_type": "stream",
     "text": [
      "Plataformas populares antes y ahora no tienen ventas\n",
      "  platform  year_of_release  2016_sales  total_sales\n",
      "0      PS3             2016        3.60       939.65\n",
      "1      Wii             2016        0.18       907.51\n",
      "2     X360             2016        1.52       971.42\n"
     ]
    }
   ],
   "source": [
    "# Ventas totales por plataforma\n",
    "total_sales_platform = games.groupby(['platform', 'year_of_release'])[['total_sales']].sum().reset_index()\n",
    "# print(total_sales_plataform)\n",
    "\n",
    "# Plataformas con pocas ventas 2016\n",
    "platform_no_sales = total_sales_platform[(total_sales_platform['year_of_release'] == 2016) & (total_sales_platform['total_sales'] < 10)]\n",
    "# print(platform_no_sales)\n",
    "\n",
    "# Plataformas populares antes y ahora sin ventas\n",
    "platforms_popular_no_sales = platform_no_sales.merge(top_sales, how='inner', on='platform')\n",
    "platforms_popular_no_sales.rename(columns={'total_sales_x': '2016_sales', 'total_sales_y': 'total_sales'}, inplace=True)\n",
    "print('Plataformas populares antes y ahora no tienen ventas')\n",
    "print(platforms_popular_no_sales)"
   ]
  },
  {
   "cell_type": "markdown",
   "metadata": {},
   "source": [
    "#### Años activos por plataforma"
   ]
  },
  {
   "cell_type": "code",
   "execution_count": 20,
   "metadata": {
    "scrolled": true
   },
   "outputs": [
    {
     "name": "stdout",
     "output_type": "stream",
     "text": [
      "Años activos por plataforma\n",
      "   platform  last_year_sales  first_year_sales  active_years\n",
      "0      2600             1982              1980             2\n",
      "1       3DS             2016              2011             5\n",
      "2        DS             2012              1985            27\n",
      "3        GB             2000              1988            12\n",
      "4       GBA             2005              2000             5\n",
      "5        GC             2006              2001             5\n",
      "6       GEN             1992              1990             2\n",
      "7       N64             2000              1996             4\n",
      "8       NES             1990              1983             7\n",
      "9        PC             2014              1985            29\n",
      "10       PS             2001              1994             7\n",
      "11      PS2             2009              2000             9\n",
      "12      PS3             2015              2006             9\n",
      "13      PS4             2016              2013             3\n",
      "14      PSP             2011              2004             7\n",
      "15      PSV             2014              2011             3\n",
      "16      SAT             1995              1994             1\n",
      "17     SNES             1996              1990             6\n",
      "18      Wii             2012              2006             6\n",
      "19     WiiU             2015              2012             3\n",
      "20     X360             2015              2005            10\n",
      "21       XB             2006              2000             6\n",
      "22     XOne             2016              2013             3\n"
     ]
    }
   ],
   "source": [
    "# Último año con ventas significativas\n",
    "last_year_sales = total_sales_platform[total_sales_platform['total_sales'] > 10].groupby('platform')['year_of_release'].max().reset_index()\n",
    "last_year_sales.rename(columns={'year_of_release' : 'last_year_sales'}, inplace=True)\n",
    "\n",
    "# Primer año con ventas\n",
    "first_year_sales = total_sales_platform[total_sales_platform['total_sales'] > 0].groupby('platform')['year_of_release'].min().reset_index()\n",
    "first_year_sales.rename(columns={'year_of_release' : 'first_year_sales'}, inplace=True)\n",
    "\n",
    "# Unir años de inicio y fin\n",
    "year_sales = last_year_sales.merge(first_year_sales, how='inner', on='platform')\n",
    "\n",
    "# Agregar columna de años activos\n",
    "year_sales['active_years'] = year_sales['last_year_sales'] - year_sales['first_year_sales']\n",
    "\n",
    "print('Años activos por plataforma')\n",
    "print(year_sales)"
   ]
  },
  {
   "cell_type": "markdown",
   "metadata": {},
   "source": [
    "### Plataformas líderes en ventas"
   ]
  },
  {
   "cell_type": "markdown",
   "metadata": {},
   "source": [
    "- Consideraremos como relevantes los últimos 5 años, de 2012 en adelante."
   ]
  },
  {
   "cell_type": "code",
   "execution_count": 21,
   "metadata": {},
   "outputs": [
    {
     "data": {
      "image/png": "[encoded data removed]",
      "text/plain": [
       "<Figure size 1500x600 with 1 Axes>"
      ]
     },
     "metadata": {},
     "output_type": "display_data"
    }
   ],
   "source": [
    "# Creamos un nuevo df con los juegos del 2012 en adelante\n",
    "relevant_games = games[games['year_of_release'] >= 2012].reset_index()\n",
    "# print(relevant_games)\n",
    "\n",
    "# Pivot table de las ventas por plataforma cada año\n",
    "pivot_relevant_games = relevant_games.pivot_table(index='year_of_release', columns='platform', values='total_sales', aggfunc='sum')\n",
    "\n",
    "# Gráfica\n",
    "pivot_relevant_games.plot(figsize=(15,6),\n",
    "                          title='Evolución de las ventas en las plataformas a través de los años',\n",
    "                          xlabel='Año',\n",
    "                          ylabel='Ventas (millones USD)',\n",
    "                          grid=True)\n",
    "plt.legend(title='Plataforma')\n",
    "plt.show()"
   ]
  },
  {
   "cell_type": "markdown",
   "metadata": {},
   "source": [
    "- Al año 2016 las plataformas que más vendieron fueron PS4 y XOne\n",
    "- Plataformas como PS3 y X360 han disminuido considerablemente en sus ventas\n",
    "- Otras plataformas, como PSV Y PC han bajado sus ventas pero no tan considerablemente, a pesar de esto, sus ventas nunca fueron tan grandes como la de otras plataformas ya mencionadas\n",
    "- Plataformas como DS y PSP dejaron de vender"
   ]
  },
  {
   "cell_type": "markdown",
   "metadata": {},
   "source": [
    "### Ventas globales de todos los juegos, desglosados por plataforma"
   ]
  },
  {
   "cell_type": "code",
   "execution_count": 22,
   "metadata": {},
   "outputs": [
    {
     "data": {
      "image/png": "[encoded data removed]",
      "text/plain": [
       "<Figure size 1500x600 with 1 Axes>"
      ]
     },
     "metadata": {},
     "output_type": "display_data"
    },
    {
     "data": {
      "image/png": "[encoded data removed]",
      "text/plain": [
       "<Figure size 1500x600 with 1 Axes>"
      ]
     },
     "metadata": {},
     "output_type": "display_data"
    },
    {
     "data": {
      "text/html": [
       "<div>\n",
       "<style scoped>\n",
       "    .dataframe tbody tr th:only-of-type {\n",
       "        vertical-align: middle;\n",
       "    }\n",
       "\n",
       "    .dataframe tbody tr th {\n",
       "        vertical-align: top;\n",
       "    }\n",
       "\n",
       "    .dataframe thead th {\n",
       "        text-align: right;\n",
       "    }\n",
       "</style>\n",
       "<table border=\"1\" class=\"dataframe\">\n",
       "  <thead>\n",
       "    <tr style=\"text-align: right;\">\n",
       "      <th></th>\n",
       "      <th>count</th>\n",
       "      <th>mean</th>\n",
       "      <th>std</th>\n",
       "      <th>min</th>\n",
       "      <th>25%</th>\n",
       "      <th>50%</th>\n",
       "      <th>75%</th>\n",
       "      <th>max</th>\n",
       "    </tr>\n",
       "    <tr>\n",
       "      <th>platform</th>\n",
       "      <th></th>\n",
       "      <th></th>\n",
       "      <th></th>\n",
       "      <th></th>\n",
       "      <th></th>\n",
       "      <th></th>\n",
       "      <th></th>\n",
       "      <th></th>\n",
       "    </tr>\n",
       "  </thead>\n",
       "  <tbody>\n",
       "    <tr>\n",
       "      <th>3DS</th>\n",
       "      <td>396.0</td>\n",
       "      <td>0.491439</td>\n",
       "      <td>1.387161</td>\n",
       "      <td>0.01</td>\n",
       "      <td>0.0400</td>\n",
       "      <td>0.11</td>\n",
       "      <td>0.3125</td>\n",
       "      <td>14.60</td>\n",
       "    </tr>\n",
       "    <tr>\n",
       "      <th>DS</th>\n",
       "      <td>31.0</td>\n",
       "      <td>0.404839</td>\n",
       "      <td>1.439245</td>\n",
       "      <td>0.01</td>\n",
       "      <td>0.0200</td>\n",
       "      <td>0.05</td>\n",
       "      <td>0.1850</td>\n",
       "      <td>8.06</td>\n",
       "    </tr>\n",
       "    <tr>\n",
       "      <th>PC</th>\n",
       "      <td>250.0</td>\n",
       "      <td>0.250600</td>\n",
       "      <td>0.494640</td>\n",
       "      <td>0.01</td>\n",
       "      <td>0.0300</td>\n",
       "      <td>0.08</td>\n",
       "      <td>0.2400</td>\n",
       "      <td>5.14</td>\n",
       "    </tr>\n",
       "    <tr>\n",
       "      <th>PS3</th>\n",
       "      <td>493.0</td>\n",
       "      <td>0.585781</td>\n",
       "      <td>1.462855</td>\n",
       "      <td>0.01</td>\n",
       "      <td>0.0500</td>\n",
       "      <td>0.20</td>\n",
       "      <td>0.6100</td>\n",
       "      <td>21.05</td>\n",
       "    </tr>\n",
       "    <tr>\n",
       "      <th>PS4</th>\n",
       "      <td>392.0</td>\n",
       "      <td>0.801378</td>\n",
       "      <td>1.609456</td>\n",
       "      <td>0.01</td>\n",
       "      <td>0.0600</td>\n",
       "      <td>0.20</td>\n",
       "      <td>0.7300</td>\n",
       "      <td>14.63</td>\n",
       "    </tr>\n",
       "    <tr>\n",
       "      <th>PSP</th>\n",
       "      <td>173.0</td>\n",
       "      <td>0.064682</td>\n",
       "      <td>0.071296</td>\n",
       "      <td>0.01</td>\n",
       "      <td>0.0200</td>\n",
       "      <td>0.03</td>\n",
       "      <td>0.0900</td>\n",
       "      <td>0.36</td>\n",
       "    </tr>\n",
       "    <tr>\n",
       "      <th>PSV</th>\n",
       "      <td>411.0</td>\n",
       "      <td>0.119659</td>\n",
       "      <td>0.203011</td>\n",
       "      <td>0.01</td>\n",
       "      <td>0.0200</td>\n",
       "      <td>0.05</td>\n",
       "      <td>0.1200</td>\n",
       "      <td>1.96</td>\n",
       "    </tr>\n",
       "    <tr>\n",
       "      <th>Wii</th>\n",
       "      <td>54.0</td>\n",
       "      <td>0.655000</td>\n",
       "      <td>1.165447</td>\n",
       "      <td>0.01</td>\n",
       "      <td>0.0625</td>\n",
       "      <td>0.18</td>\n",
       "      <td>0.6875</td>\n",
       "      <td>6.76</td>\n",
       "    </tr>\n",
       "    <tr>\n",
       "      <th>WiiU</th>\n",
       "      <td>147.0</td>\n",
       "      <td>0.559116</td>\n",
       "      <td>1.058836</td>\n",
       "      <td>0.01</td>\n",
       "      <td>0.0800</td>\n",
       "      <td>0.22</td>\n",
       "      <td>0.5250</td>\n",
       "      <td>7.09</td>\n",
       "    </tr>\n",
       "    <tr>\n",
       "      <th>X360</th>\n",
       "      <td>292.0</td>\n",
       "      <td>0.810068</td>\n",
       "      <td>1.712069</td>\n",
       "      <td>0.01</td>\n",
       "      <td>0.1000</td>\n",
       "      <td>0.31</td>\n",
       "      <td>0.8700</td>\n",
       "      <td>16.27</td>\n",
       "    </tr>\n",
       "    <tr>\n",
       "      <th>XOne</th>\n",
       "      <td>247.0</td>\n",
       "      <td>0.645020</td>\n",
       "      <td>1.036139</td>\n",
       "      <td>0.01</td>\n",
       "      <td>0.0600</td>\n",
       "      <td>0.22</td>\n",
       "      <td>0.6850</td>\n",
       "      <td>7.39</td>\n",
       "    </tr>\n",
       "  </tbody>\n",
       "</table>\n",
       "</div>"
      ],
      "text/plain": [
       "          count      mean       std   min     25%   50%     75%    max\n",
       "platform                                                              \n",
       "3DS       396.0  0.491439  1.387161  0.01  0.0400  0.11  0.3125  14.60\n",
       "DS         31.0  0.404839  1.439245  0.01  0.0200  0.05  0.1850   8.06\n",
       "PC        250.0  0.250600  0.494640  0.01  0.0300  0.08  0.2400   5.14\n",
       "PS3       493.0  0.585781  1.462855  0.01  0.0500  0.20  0.6100  21.05\n",
       "PS4       392.0  0.801378  1.609456  0.01  0.0600  0.20  0.7300  14.63\n",
       "PSP       173.0  0.064682  0.071296  0.01  0.0200  0.03  0.0900   0.36\n",
       "PSV       411.0  0.119659  0.203011  0.01  0.0200  0.05  0.1200   1.96\n",
       "Wii        54.0  0.655000  1.165447  0.01  0.0625  0.18  0.6875   6.76\n",
       "WiiU      147.0  0.559116  1.058836  0.01  0.0800  0.22  0.5250   7.09\n",
       "X360      292.0  0.810068  1.712069  0.01  0.1000  0.31  0.8700  16.27\n",
       "XOne      247.0  0.645020  1.036139  0.01  0.0600  0.22  0.6850   7.39"
      ]
     },
     "execution_count": 22,
     "metadata": {},
     "output_type": "execute_result"
    }
   ],
   "source": [
    "# Box plots\n",
    "plt.figure(figsize=(15, 6))\n",
    "sns.boxplot(data=relevant_games, x='platform', y='total_sales')\n",
    "plt.title('Ventas globales por plataforma')\n",
    "plt.xlabel('Plataforma')\n",
    "plt.ylabel('Ventas (millones USD)')\n",
    "plt.grid(True)\n",
    "plt.show()\n",
    "\n",
    "# Box plot con log scale\n",
    "plt.figure(figsize=(15, 6))\n",
    "sns.boxplot(data=relevant_games, x='platform', y='total_sales')\n",
    "plt.yscale('log')\n",
    "plt.title('Ventas globales por plataforma')\n",
    "plt.xlabel('Plataforma')\n",
    "plt.ylabel('Ventas log scale (millones USD)')\n",
    "plt.grid(True)\n",
    "plt.show()\n",
    "\n",
    "# Datos descriptivos\n",
    "relevant_games.groupby('platform')['total_sales'].describe()"
   ]
  },
  {
   "cell_type": "markdown",
   "metadata": {},
   "source": [
    "- La mayoría de las plataformas tienen juegos que vendieron mucho, que son los valores atípicos.\n",
    "- A pesar de esto, en general, la mayoría de los juegos tiene ventas más bajas.\n",
    "- La mediana varía entre plataformas, sin embargo, si las comparamos desde la perspectiva de los juegos atípicos, son similares. Si vemos más de cerca, vemos las diferencias, aunque estas no son tan grandes a comparación de las diferencias con los valores atípicos.\n",
    "- Algunas plataformas tienen una mayor dispersión en sus ventas que otros, por ejemplo, notamos que PSP y PSV tienen un IQR menor, pero con ventas más bajas.\n",
    "- Las plataformas PS3, X360 y PS4 tienen los mayores valores atípicos, es decir, estas plataformas tuvieron juegos muy exitosos. Así mismo, estas plataformas tienen de las mayores medianas."
   ]
  },
  {
   "cell_type": "markdown",
   "metadata": {},
   "source": [
    "### Cómo afectan las reseñas de usuarios y profesionales en las ventas"
   ]
  },
  {
   "cell_type": "markdown",
   "metadata": {},
   "source": [
    "- Se seleccionó la plataforma XOne"
   ]
  },
  {
   "cell_type": "code",
   "execution_count": 23,
   "metadata": {},
   "outputs": [],
   "source": [
    "# Filtramos los datos para la plataforma\n",
    "xone = relevant_games[relevant_games['platform'] == 'XOne']"
   ]
  },
  {
   "cell_type": "markdown",
   "metadata": {},
   "source": [
    "#### Reseñas de profesionales vs ventas"
   ]
  },
  {
   "cell_type": "code",
   "execution_count": 24,
   "metadata": {
    "scrolled": true
   },
   "outputs": [
    {
     "name": "stdout",
     "output_type": "stream",
     "text": [
      "Correlación de las ventas totales con las reseñas profesionales:\n",
      "0.41699832800840175\n"
     ]
    },
    {
     "data": {
      "image/png": "[encoded data removed]",
      "text/plain": [
       "<Figure size 1500x600 with 1 Axes>"
      ]
     },
     "metadata": {},
     "output_type": "display_data"
    }
   ],
   "source": [
    "# Gráfico de dispersión\n",
    "plt.figure(figsize=(15, 6))\n",
    "sns.scatterplot(data=xone, x='critic_score', y='total_sales')\n",
    "plt.title('Correlación ventas totales vs reseñas profesionales')\n",
    "plt.xlabel('Reseñas profesionales')\n",
    "plt.ylabel('Ventas totales (millones USD)')\n",
    "plt.grid(True)\n",
    "\n",
    "# Correlación\n",
    "print('Correlación de las ventas totales con las reseñas profesionales:')\n",
    "print(xone['total_sales'].corr(xone['critic_score']))"
   ]
  },
  {
   "cell_type": "markdown",
   "metadata": {},
   "source": [
    "- La correlación es moderada. No es lo suficientemente alta para decir que hay una gran dependencia, pero si una pequeña influencia.\n",
    "- Mejores reseñas de los profesionales tienen a tener cierta influencia en mayores ventas."
   ]
  },
  {
   "cell_type": "markdown",
   "metadata": {},
   "source": [
    "#### Reseñas de usuarios vs ventas"
   ]
  },
  {
   "cell_type": "code",
   "execution_count": 25,
   "metadata": {},
   "outputs": [
    {
     "name": "stdout",
     "output_type": "stream",
     "text": [
      "Correlación de las ventas totales con las reseñas de usuarios:\n",
      "-0.06892505328279412\n"
     ]
    },
    {
     "data": {
      "image/png": "[encoded data removed]",
      "text/plain": [
       "<Figure size 1500x600 with 1 Axes>"
      ]
     },
     "metadata": {},
     "output_type": "display_data"
    }
   ],
   "source": [
    "# Gráfico de dispersión\n",
    "plt.figure(figsize=(15, 6))\n",
    "sns.scatterplot(data=xone, x='user_score', y='total_sales')\n",
    "plt.title('Correlación ventas totales vs reseñas de usuarios')\n",
    "plt.xlabel('Reseñas de usuarios')\n",
    "plt.ylabel('Ventas totales (millones USD)')\n",
    "plt.grid(True)\n",
    "\n",
    "# Correlación\n",
    "print('Correlación de las ventas totales con las reseñas de usuarios:')\n",
    "print(xone['total_sales'].corr(xone['user_score']))"
   ]
  },
  {
   "cell_type": "markdown",
   "metadata": {},
   "source": [
    "- La correlación es negativa y muy débil. No hay relación entre las variables.\n",
    "- Las reseñas de los usuarios no están relacionadas con las ventas."
   ]
  },
  {
   "cell_type": "markdown",
   "metadata": {},
   "source": [
    "### Ventas de los mismos juegos en diferentes plataformas"
   ]
  },
  {
   "cell_type": "code",
   "execution_count": 26,
   "metadata": {},
   "outputs": [
    {
     "data": {
      "image/png": "[encoded data removed]",
      "text/plain": [
       "<Figure size 1500x600 with 1 Axes>"
      ]
     },
     "metadata": {},
     "output_type": "display_data"
    }
   ],
   "source": [
    "# Agrupar df por juego (se seleccionaron los 10 más vendidos)\n",
    "top_games = relevant_games.groupby('name')['total_sales'].sum().sort_values(ascending=False).head(10)\n",
    "top_games_platform = relevant_games[relevant_games['name'].isin(top_games.index)]\n",
    "# Pivot table con los juegos por plataforma y el total de ventas\n",
    "pivot_top_games = top_games_platform.pivot_table(index='name', columns='platform', values='total_sales', aggfunc='sum')\n",
    "\n",
    "# Gráfico\n",
    "pivot_top_games.plot(kind='bar',\n",
    "                     figsize=(15,6),\n",
    "                     title='Ventas por plataforma de los juegos más vendidos',\n",
    "                     xlabel='Juego',\n",
    "                     ylabel='Ventas (millones USD)',\n",
    "                     rot='45',\n",
    "                     grid=True)\n",
    "plt.legend(title='Plataforma')\n",
    "plt.show()"
   ]
  },
  {
   "cell_type": "markdown",
   "metadata": {},
   "source": [
    "- Los juegos tienen más ventas en ciertas plataformas dependiendo de este. Es decir, tienen más éxito en dichas plataformas.\n",
    "- Estas plataformas son, en su mayoría: PS3, X360 y PS4, que coincide con las plataformas que más venden."
   ]
  },
  {
   "cell_type": "markdown",
   "metadata": {},
   "source": [
    "### Juegos por género"
   ]
  },
  {
   "cell_type": "code",
   "execution_count": 27,
   "metadata": {},
   "outputs": [
    {
     "data": {
      "image/png": "[encoded data removed]",
      "text/plain": [
       "<Figure size 1500x600 with 1 Axes>"
      ]
     },
     "metadata": {},
     "output_type": "display_data"
    },
    {
     "data": {
      "image/png": "[encoded data removed]",
      "text/plain": [
       "<Figure size 1500x600 with 1 Axes>"
      ]
     },
     "metadata": {},
     "output_type": "display_data"
    }
   ],
   "source": [
    "# Agrupar las ventas totales por género\n",
    "top_genres = relevant_games.groupby('genre')['total_sales'].sum().sort_values(ascending=False)\n",
    "# Ventas promedio por género\n",
    "mean_genres = relevant_games.groupby('genre')['total_sales'].mean().sort_values(ascending=False)\n",
    "\n",
    "# Gráfica de ventas totales\n",
    "top_genres.plot(kind='bar', title='Ventas totales por género', xlabel='Género', ylabel='Ventas (millones USD)', figsize=(15,6), grid=True)\n",
    "plt.show()\n",
    "# Gráfica de ventas promedio\n",
    "mean_genres.plot(kind='bar', title='Venta promedio por género', xlabel='Género', ylabel='Ventas (millones USD)', figsize=(15,6), grid=True)\n",
    "plt.show()"
   ]
  },
  {
   "cell_type": "markdown",
   "metadata": {},
   "source": [
    "- Podemos notar que los géneros con más ventas totales fueron: Action, Shooter y Role-Playing\n",
    "- Los géneros con mayor venta promedio por juego fueron: Shooter, Platform y Sports\n",
    "- Los que venden más en total no siempre son los que tienen mayor venta promedio por juego"
   ]
  },
  {
   "cell_type": "markdown",
   "metadata": {},
   "source": [
    "## Perfil de usuario por región"
   ]
  },
  {
   "cell_type": "markdown",
   "metadata": {},
   "source": [
    "- Para cada región (NA, UE, JP)"
   ]
  },
  {
   "cell_type": "code",
   "execution_count": 28,
   "metadata": {},
   "outputs": [],
   "source": [
    "# Función para determinar las plataformas y géneros principales, y si ESRB afecta las ventas\n",
    "def top_by_region (region_sales, region, df=relevant_games):\n",
    "    top_platforms = df.groupby('platform')[region_sales].sum().sort_values(ascending=False).reset_index().head(5)\n",
    "    top_genres = df.groupby('genre')[region_sales].sum().sort_values(ascending=False).reset_index().head(5)\n",
    "    esrb = df.groupby('rating')[region_sales].mean().sort_values(ascending=False).reset_index()\n",
    "    return top_platforms, top_genres, esrb\n",
    "\n",
    "# Llamamos a la función por región\n",
    "platforms_na, genres_na, esrb_na = top_by_region('na_sales', 'NA')\n",
    "platforms_eu, genres_eu, esrb_eu = top_by_region('eu_sales', 'EU')\n",
    "platforms_jp, genres_jp, esrb_jp = top_by_region('jp_sales', 'JP')"
   ]
  },
  {
   "cell_type": "markdown",
   "metadata": {},
   "source": [
    "### Cinco plataformas principales"
   ]
  },
  {
   "cell_type": "code",
   "execution_count": 29,
   "metadata": {},
   "outputs": [
    {
     "name": "stdout",
     "output_type": "stream",
     "text": [
      "5 Plataformas principales por región\n",
      "          na_sales  eu_sales  jp_sales\n",
      "platform                              \n",
      "X360        140.05     74.52       NaN\n",
      "PS4         108.74    141.09     15.96\n",
      "PS3         103.38    106.86     35.29\n",
      "XOne         93.12     51.59       NaN\n",
      "3DS          55.31     42.64     87.79\n",
      "PSV            NaN       NaN     21.04\n",
      "WiiU           NaN       NaN     13.01\n"
     ]
    },
    {
     "data": {
      "image/png": "[encoded data removed]",
      "text/plain": [
       "<Figure size 1500x600 with 1 Axes>"
      ]
     },
     "metadata": {},
     "output_type": "display_data"
    }
   ],
   "source": [
    "# Combinamos los df\n",
    "platforms = platforms_na.merge(platforms_eu, on='platform', how='outer')\n",
    "platforms = platforms.merge(platforms_jp, on='platform', how='outer')\n",
    "\n",
    "#\n",
    "print('5 Plataformas principales por región')\n",
    "print(platforms.set_index('platform'))\n",
    "\n",
    "# Gráfica\n",
    "platforms.set_index('platform').plot(kind='bar', title='Plataformas principales por región', ylabel='Ventas (millones USD)', \n",
    "                                     xlabel='Plataforma', figsize=(15,6), grid=True, rot='0')\n",
    "plt.legend(['NA', 'EU', 'JP'], title='Región')\n",
    "plt.show()"
   ]
  },
  {
   "cell_type": "markdown",
   "metadata": {},
   "source": [
    "- La región que más vende es NA y la que menos vende es JP\n",
    "- Las 5 plataformas principales para NA y EU son las mismas, aunque no en el mismo orden\n",
    "- Para JP algunas difiere y algunas son iguales\n",
    "- Dependiendo de la plataforma es su nivel de ventas por región"
   ]
  },
  {
   "cell_type": "markdown",
   "metadata": {},
   "source": [
    "### Cinco géneros principales"
   ]
  },
  {
   "cell_type": "code",
   "execution_count": 30,
   "metadata": {},
   "outputs": [
    {
     "name": "stdout",
     "output_type": "stream",
     "text": [
      "5 Géneros principales por región\n",
      "              na_sales  eu_sales  jp_sales\n",
      "genre                                     \n",
      "Action          177.84    159.34     52.80\n",
      "Shooter         144.77    113.47       NaN\n",
      "Sports           81.53     69.09       NaN\n",
      "Role-Playing     64.00     48.53     65.44\n",
      "Misc             38.19       NaN     12.86\n",
      "Racing             NaN     27.29       NaN\n",
      "Simulation         NaN       NaN     10.41\n",
      "Fighting           NaN       NaN      9.44\n"
     ]
    },
    {
     "data": {
      "image/png": "[encoded data removed]",
      "text/plain": [
       "<Figure size 1500x600 with 1 Axes>"
      ]
     },
     "metadata": {},
     "output_type": "display_data"
    }
   ],
   "source": [
    "# Combinamos los df\n",
    "genres = genres_na.merge(genres_eu, on='genre', how='outer')\n",
    "genres = genres.merge(genres_jp, on='genre', how='outer')\n",
    "\n",
    "#\n",
    "print('5 Géneros principales por región')\n",
    "print(genres.set_index('genre'))\n",
    "\n",
    "# Gráfica\n",
    "genres.set_index('genre').plot(kind='bar', title='Géneros principales por región', ylabel='Ventas (millones USD)', \n",
    "                                     xlabel='Género', figsize=(15,6), grid=True, rot='0')\n",
    "plt.legend(['NA', 'EU', 'JP'], title='Región')\n",
    "plt.show()"
   ]
  },
  {
   "cell_type": "markdown",
   "metadata": {},
   "source": [
    "- Los primeros 4 géneros principales para NA y EU son los mismos\n",
    "- Para JP difiere en algunas y otras son iguales\n",
    "- Para las 3 regiones, los géneros Action y Role-Playing se encuentran en su top"
   ]
  },
  {
   "cell_type": "markdown",
   "metadata": {},
   "source": [
    "### Clasificación ESRB"
   ]
  },
  {
   "cell_type": "code",
   "execution_count": 31,
   "metadata": {},
   "outputs": [
    {
     "name": "stdout",
     "output_type": "stream",
     "text": [
      "Clasificación ESRB vs Venta promedio\n",
      "           na_sales  eu_sales  jp_sales  total_sales\n",
      "rating                                              \n",
      "M          0.465000  0.389478  0.042570     0.897048\n",
      "E          0.289544  0.286152  0.071722     0.647418\n",
      "E10+       0.247386  0.180948  0.026765     0.455098\n",
      "T          0.160243  0.128544  0.063155     0.351942\n",
      "No rating  0.081027  0.071765  0.085365     0.238157\n",
      "AO              NaN       NaN       NaN          NaN\n",
      "EC              NaN       NaN       NaN          NaN\n",
      "K-A             NaN       NaN       NaN          NaN\n",
      "RP              NaN       NaN       NaN          NaN\n"
     ]
    },
    {
     "data": {
      "image/png": "[encoded data removed]",
      "text/plain": [
       "<Figure size 1500x600 with 1 Axes>"
      ]
     },
     "metadata": {},
     "output_type": "display_data"
    }
   ],
   "source": [
    "# Combinamos los df\n",
    "esrb = esrb_na.merge(esrb_eu, on='rating', how='outer')\n",
    "esrb = esrb.merge(esrb_jp, on='rating', how='outer') # .dropna()\n",
    "esrb['total_sales'] = esrb['na_sales'] + esrb['eu_sales'] + esrb['jp_sales']\n",
    "#\n",
    "print('Clasificación ESRB vs Venta promedio')\n",
    "print(esrb.set_index('rating'))\n",
    "\n",
    "# Gráfica\n",
    "esrb[['rating', 'na_sales', 'eu_sales', 'jp_sales']].set_index('rating').plot(kind='bar', title='Clasificación ESRB vs Venta promedio por región', ylabel='Venta (millones USD)', \n",
    "                                     xlabel='Clasificación ESRB', figsize=(15,6), grid=True, rot='0')\n",
    "plt.legend(['NA', 'EU', 'JP', 'Total'], title='Región')\n",
    "plt.show()"
   ]
  },
  {
   "cell_type": "markdown",
   "metadata": {},
   "source": [
    "- La clasificación que más vende en promedio es \"M\"\n",
    "- La clasificación que menos vende en promedio es \"No rating\", que no están clasificados\n",
    "- Hay algunas clasificaciones que no venden\n",
    "- En JP la venta promedio entre calificaciones no difiere tanto como en NA y EU"
   ]
  },
  {
   "cell_type": "markdown",
   "metadata": {},
   "source": [
    "## Prueba de hipótesis"
   ]
  },
  {
   "cell_type": "markdown",
   "metadata": {},
   "source": [
    "### Las calificaciones promedio de los usuarios para las plataformas Xbox One y PC son las mismas"
   ]
  },
  {
   "cell_type": "markdown",
   "metadata": {},
   "source": [
    "- H0: Las calificaciones promedio de los usuarios para las plataformas Xbox One y PC son iguales\n",
    "- H1: Las calificaciones promedio de los usuarios para las plataformas Xbox One y PC son diferentes\n",
    "- Hipótesis de igualdad de media de dos poblaciones"
   ]
  },
  {
   "cell_type": "code",
   "execution_count": 32,
   "metadata": {},
   "outputs": [
    {
     "name": "stdout",
     "output_type": "stream",
     "text": [
      "Valor p: 0.5535080500643661\n",
      "No podemos rechazar la hipótesis nula\n"
     ]
    }
   ],
   "source": [
    "# Separar los user_score de cada plataforma\n",
    "score_xone = relevant_games[(relevant_games['platform'] == 'XOne')]['user_score'].dropna()\n",
    "score_pc = relevant_games[(relevant_games['platform'] == 'PC')]['user_score'].dropna()\n",
    "\n",
    "# Prueba de hipótesis\n",
    "alpha = 0.05\n",
    "result_platforms = st.ttest_ind(score_xone, score_pc)\n",
    "p_platforms = result_platforms.pvalue\n",
    "\n",
    "print('Valor p:', p_platforms)\n",
    "\n",
    "if p_platforms < alpha:\n",
    "    print('Rechazamos la hipótesis nula')\n",
    "else:\n",
    "    print('No podemos rechazar la hipótesis nula')"
   ]
  },
  {
   "cell_type": "markdown",
   "metadata": {},
   "source": [
    "No rechazamos la hipótesis nula. Es decir, no hay evidencia suficiente para concluir que hay diferencia entre las calificaciones de los usuarios de ambas plataformas."
   ]
  },
  {
   "cell_type": "markdown",
   "metadata": {},
   "source": [
    "### Las calificaciones promedio de los usuarios para los géneros de Acción y Deportes son diferentes"
   ]
  },
  {
   "cell_type": "markdown",
   "metadata": {},
   "source": [
    "- H0: Las calificaciones promedio de los usuarios para los géneros de acción y deportes son iguales\n",
    "- H1: Las calificaciones promedio de los usuarios para los géneros de acción y deportes son diferentes\n",
    "- Hipótesis de igualdad de media de dos poblaciones"
   ]
  },
  {
   "cell_type": "code",
   "execution_count": 33,
   "metadata": {},
   "outputs": [
    {
     "name": "stdout",
     "output_type": "stream",
     "text": [
      "Valor p: 3.7163089460934874e-26\n",
      "Rechazamos la hipótesis nula\n"
     ]
    }
   ],
   "source": [
    "# Separar los user_score de cada género\n",
    "score_action = relevant_games[(relevant_games['genre'] == 'Action')]['user_score'].dropna()\n",
    "score_sport = relevant_games[(relevant_games['genre'] == 'Sports')]['user_score'].dropna()\n",
    "\n",
    "# Prueba de hipótesis\n",
    "alpha = 0.05\n",
    "result_genres = st.ttest_ind(score_action, score_sport)\n",
    "p_genres = result_genres.pvalue\n",
    "\n",
    "print('Valor p:', p_genres)\n",
    "\n",
    "if p_genres < alpha:\n",
    "    print('Rechazamos la hipótesis nula')\n",
    "else:\n",
    "    print('No podemos rechazar la hipótesis nula')"
   ]
  },
  {
   "cell_type": "markdown",
   "metadata": {},
   "source": [
    "Rechazamos la hipótesis nula. Es decir, hay evidencia suficiente para concluir que hay diferencia entre las calificaciones de los usuarios de ambos géneros."
   ]
  },
  {
   "cell_type": "markdown",
   "metadata": {},
   "source": [
    "## Conclusiones"
   ]
  },
  {
   "cell_type": "markdown",
   "metadata": {},
   "source": [
    "***Limpieza de datos***\n",
    "- Se identificaron y gestionaron valores ausentes.\n",
    "- Dependiendo de la naturaleza se eliminaron las filas, se imputaron valores o se dejaron igual.\n",
    "- Se identificaron y gestionaron tipos de datos incorrectos.\n",
    "- Se creó la columna de \"total_sales\" sumando las ventas por región.\n",
    "\n",
    "***Análisis de datos***\n",
    "- Se identificaron los lanzamientos por años.\n",
    "- Se identificaron las ventas por plataforma, siendo las más altas PS2, X360 y PS3.\n",
    "- Se identificaron plataformas que antes eran populares y fueron decayendo en sus ventas: PS3, Wii y X360.\n",
    "- Se calculó el tiempo de años activos por plataforma, siendo PC y DS las más activas.\n",
    "- Se redujo el data frame a los últimos 5 años.\n",
    "- Se identificó la evolución en las ventas por plataforma a través de los años:\n",
    "  - Al último año (2016) las plataformas con más ventas fueron PS4 y XOne.\n",
    "  - Las plataformas PS3 y X360 disminuyeron considerableente sus ventas\n",
    "  - Plataformas como DS y PSP dejaron de vender\n",
    "- Se identificaron las ventas globales por plataforma:\n",
    "  - Las plataformas PS3, X360 y PS4 contaron con los mayores valores atípicos.\n",
    "  - Las plataformas PSP y PSV tienen un IQR menor pero con ventas más bajas.\n",
    "  - La mayoría de los juegos tiene ventas bajas en comparación con los valores atípicos.\n",
    "- No se encontró correlación entre las ventas y las reseñas de los usuarios.\n",
    "- Se encontró una moderada correlación (0.4) entre las ventas y las reseñas de los profesionales.\n",
    "- Los géneros con más ventas totales fueron: Action, Shooter y Role-Playing.\n",
    "\n",
    "***Perfil de usuario por región***\n",
    "- La región que más vende es NA y la que menos vende es JP.\n",
    "- Para las 3 regiones, los géneros Action y Role-Playing se encuentran en su top.\n",
    "- La clasificación que más vende en promedio es \"M\".\n",
    "- En JP la venta promedio entre calificaciones no difiere tanto como en NA y EU.\n",
    "\n",
    "***Pruebas de hipótesis***\n",
    "- No hay evidencia suficiente para concluir que hay diferencia entre las calificaciones de los usuarios de XOne y PC.\n",
    "- Hay evidencia suficiente para concluir que hay diferencia entre las calificaciones de los usuarios de Acción y Deportes."
   ]
  }
 ],
 "metadata": {
  "ExecuteTimeLog": [
   {
    "duration": 2912,
    "start_time": "2025-04-29T00:15:47.069Z"
   },
   {
    "duration": 653,
    "start_time": "2025-04-29T00:15:49.984Z"
   },
   {
    "duration": 65,
    "start_time": "2025-04-29T00:16:44.029Z"
   },
   {
    "duration": 41,
    "start_time": "2025-04-29T00:17:27.425Z"
   },
   {
    "duration": 37,
    "start_time": "2025-04-29T00:17:29.621Z"
   },
   {
    "duration": 929,
    "start_time": "2025-04-29T00:18:14.131Z"
   },
   {
    "duration": 24,
    "start_time": "2025-04-29T00:18:15.062Z"
   },
   {
    "duration": 12,
    "start_time": "2025-04-29T00:20:06.646Z"
   },
   {
    "duration": 14,
    "start_time": "2025-04-29T00:20:20.272Z"
   },
   {
    "duration": 5,
    "start_time": "2025-04-29T00:25:15.056Z"
   },
   {
    "duration": 13,
    "start_time": "2025-04-29T00:25:26.027Z"
   },
   {
    "duration": 2,
    "start_time": "2025-04-29T00:28:40.412Z"
   },
   {
    "duration": 2,
    "start_time": "2025-04-29T00:28:43.376Z"
   },
   {
    "duration": 3,
    "start_time": "2025-04-29T00:28:47.579Z"
   },
   {
    "duration": 2,
    "start_time": "2025-04-29T00:28:53.881Z"
   },
   {
    "duration": 674,
    "start_time": "2025-04-29T00:38:55.275Z"
   },
   {
    "duration": 47,
    "start_time": "2025-04-29T00:39:12.834Z"
   },
   {
    "duration": 5,
    "start_time": "2025-04-29T00:39:27.045Z"
   },
   {
    "duration": 13,
    "start_time": "2025-04-29T00:39:36.592Z"
   },
   {
    "duration": 13,
    "start_time": "2025-04-29T00:41:25.876Z"
   },
   {
    "duration": 13,
    "start_time": "2025-04-29T00:41:32.908Z"
   },
   {
    "duration": 14,
    "start_time": "2025-04-29T00:43:20.916Z"
   },
   {
    "duration": 844,
    "start_time": "2025-04-29T00:43:29.552Z"
   },
   {
    "duration": 27,
    "start_time": "2025-04-29T00:43:30.398Z"
   },
   {
    "duration": 12,
    "start_time": "2025-04-29T00:43:30.426Z"
   },
   {
    "duration": 15,
    "start_time": "2025-04-29T00:43:30.440Z"
   },
   {
    "duration": 4,
    "start_time": "2025-04-29T00:43:30.456Z"
   },
   {
    "duration": 15,
    "start_time": "2025-04-29T00:43:30.461Z"
   },
   {
    "duration": 2,
    "start_time": "2025-04-29T00:43:30.477Z"
   },
   {
    "duration": 2,
    "start_time": "2025-04-29T00:43:30.510Z"
   },
   {
    "duration": 3,
    "start_time": "2025-04-29T00:43:30.513Z"
   },
   {
    "duration": 2,
    "start_time": "2025-04-29T00:43:30.519Z"
   },
   {
    "duration": 3,
    "start_time": "2025-04-29T00:43:30.523Z"
   },
   {
    "duration": 5,
    "start_time": "2025-04-29T00:44:47.590Z"
   },
   {
    "duration": 3,
    "start_time": "2025-04-29T00:45:04.444Z"
   },
   {
    "duration": 826,
    "start_time": "2025-04-29T00:45:16.979Z"
   },
   {
    "duration": 24,
    "start_time": "2025-04-29T00:45:17.809Z"
   },
   {
    "duration": 12,
    "start_time": "2025-04-29T00:45:17.835Z"
   },
   {
    "duration": 14,
    "start_time": "2025-04-29T00:45:17.848Z"
   },
   {
    "duration": 3,
    "start_time": "2025-04-29T00:45:17.865Z"
   },
   {
    "duration": 4,
    "start_time": "2025-04-29T00:45:17.870Z"
   },
   {
    "duration": 0,
    "start_time": "2025-04-29T00:45:17.875Z"
   },
   {
    "duration": 0,
    "start_time": "2025-04-29T00:45:17.909Z"
   },
   {
    "duration": 0,
    "start_time": "2025-04-29T00:45:17.911Z"
   },
   {
    "duration": 0,
    "start_time": "2025-04-29T00:45:17.912Z"
   },
   {
    "duration": 0,
    "start_time": "2025-04-29T00:45:17.914Z"
   },
   {
    "duration": 17,
    "start_time": "2025-04-29T00:45:45.815Z"
   },
   {
    "duration": 824,
    "start_time": "2025-04-29T00:46:37.192Z"
   },
   {
    "duration": 5,
    "start_time": "2025-04-29T00:48:37.785Z"
   },
   {
    "duration": 4,
    "start_time": "2025-04-29T00:49:27.335Z"
   },
   {
    "duration": 6,
    "start_time": "2025-04-29T00:50:07.341Z"
   },
   {
    "duration": 5,
    "start_time": "2025-04-29T00:50:41.706Z"
   },
   {
    "duration": 14,
    "start_time": "2025-04-29T00:51:33.189Z"
   },
   {
    "duration": 4,
    "start_time": "2025-04-29T00:51:40.567Z"
   },
   {
    "duration": 5,
    "start_time": "2025-04-29T00:55:25.977Z"
   },
   {
    "duration": 22,
    "start_time": "2025-04-29T00:55:40.964Z"
   },
   {
    "duration": 12,
    "start_time": "2025-04-29T00:55:55.190Z"
   },
   {
    "duration": 72,
    "start_time": "2025-04-29T00:56:53.196Z"
   },
   {
    "duration": 38,
    "start_time": "2025-04-29T00:57:36.755Z"
   },
   {
    "duration": 19,
    "start_time": "2025-04-29T00:57:53.934Z"
   },
   {
    "duration": 50,
    "start_time": "2025-04-29T00:59:38.398Z"
   },
   {
    "duration": 4,
    "start_time": "2025-04-29T01:01:30.763Z"
   },
   {
    "duration": 9,
    "start_time": "2025-04-29T01:01:43.605Z"
   },
   {
    "duration": 6,
    "start_time": "2025-04-29T01:02:41.573Z"
   },
   {
    "duration": 16,
    "start_time": "2025-04-29T01:04:04.470Z"
   },
   {
    "duration": 3,
    "start_time": "2025-04-29T01:05:20.882Z"
   },
   {
    "duration": 12,
    "start_time": "2025-04-29T01:06:29.454Z"
   },
   {
    "duration": 14,
    "start_time": "2025-04-29T01:06:36.184Z"
   },
   {
    "duration": 13,
    "start_time": "2025-04-29T01:07:08.879Z"
   },
   {
    "duration": 39,
    "start_time": "2025-04-29T01:08:14.604Z"
   },
   {
    "duration": 5,
    "start_time": "2025-04-29T01:14:22.133Z"
   },
   {
    "duration": 3,
    "start_time": "2025-04-29T01:14:26.198Z"
   },
   {
    "duration": 239,
    "start_time": "2025-04-29T01:16:23.113Z"
   },
   {
    "duration": 51,
    "start_time": "2025-04-29T01:16:46.399Z"
   },
   {
    "duration": 52,
    "start_time": "2025-04-29T01:17:04.543Z"
   },
   {
    "duration": 4,
    "start_time": "2025-04-29T01:19:24.385Z"
   },
   {
    "duration": 23,
    "start_time": "2025-04-29T01:26:26.147Z"
   },
   {
    "duration": 13,
    "start_time": "2025-04-29T01:26:38.155Z"
   },
   {
    "duration": 13,
    "start_time": "2025-04-29T01:27:14.277Z"
   },
   {
    "duration": 13,
    "start_time": "2025-04-29T01:28:08.213Z"
   },
   {
    "duration": 13,
    "start_time": "2025-04-29T01:28:49.063Z"
   },
   {
    "duration": 17,
    "start_time": "2025-04-29T01:32:07.906Z"
   },
   {
    "duration": 52,
    "start_time": "2025-04-29T01:33:24.168Z"
   },
   {
    "duration": 5,
    "start_time": "2025-04-29T01:34:32.141Z"
   },
   {
    "duration": 15,
    "start_time": "2025-04-29T01:34:41.793Z"
   },
   {
    "duration": 11,
    "start_time": "2025-04-29T01:35:59.443Z"
   },
   {
    "duration": 803,
    "start_time": "2025-04-29T01:36:37.596Z"
   },
   {
    "duration": 37,
    "start_time": "2025-04-29T01:36:38.402Z"
   },
   {
    "duration": 13,
    "start_time": "2025-04-29T01:36:38.441Z"
   },
   {
    "duration": 19,
    "start_time": "2025-04-29T01:36:38.456Z"
   },
   {
    "duration": 5,
    "start_time": "2025-04-29T01:36:38.479Z"
   },
   {
    "duration": 27,
    "start_time": "2025-04-29T01:36:38.486Z"
   },
   {
    "duration": 5,
    "start_time": "2025-04-29T01:36:38.517Z"
   },
   {
    "duration": 7,
    "start_time": "2025-04-29T01:36:38.526Z"
   },
   {
    "duration": 15,
    "start_time": "2025-04-29T01:36:38.535Z"
   },
   {
    "duration": 14,
    "start_time": "2025-04-29T01:36:38.552Z"
   },
   {
    "duration": 326,
    "start_time": "2025-04-29T01:36:38.567Z"
   },
   {
    "duration": 0,
    "start_time": "2025-04-29T01:36:38.895Z"
   },
   {
    "duration": 0,
    "start_time": "2025-04-29T01:36:38.896Z"
   },
   {
    "duration": 0,
    "start_time": "2025-04-29T01:36:38.897Z"
   },
   {
    "duration": 9,
    "start_time": "2025-04-29T01:37:49.599Z"
   },
   {
    "duration": 6,
    "start_time": "2025-04-29T01:38:03.455Z"
   },
   {
    "duration": 18,
    "start_time": "2025-04-29T01:38:10.771Z"
   },
   {
    "duration": 852,
    "start_time": "2025-04-29T01:38:19.469Z"
   },
   {
    "duration": 24,
    "start_time": "2025-04-29T01:38:20.325Z"
   },
   {
    "duration": 14,
    "start_time": "2025-04-29T01:38:20.351Z"
   },
   {
    "duration": 15,
    "start_time": "2025-04-29T01:38:20.366Z"
   },
   {
    "duration": 4,
    "start_time": "2025-04-29T01:38:20.383Z"
   },
   {
    "duration": 9,
    "start_time": "2025-04-29T01:38:20.409Z"
   },
   {
    "duration": 3,
    "start_time": "2025-04-29T01:38:20.420Z"
   },
   {
    "duration": 6,
    "start_time": "2025-04-29T01:38:20.425Z"
   },
   {
    "duration": 17,
    "start_time": "2025-04-29T01:38:20.433Z"
   },
   {
    "duration": 13,
    "start_time": "2025-04-29T01:38:20.452Z"
   },
   {
    "duration": 47,
    "start_time": "2025-04-29T01:38:20.467Z"
   },
   {
    "duration": 4,
    "start_time": "2025-04-29T01:38:20.516Z"
   },
   {
    "duration": 5,
    "start_time": "2025-04-29T01:38:20.521Z"
   },
   {
    "duration": 13,
    "start_time": "2025-04-29T01:38:20.529Z"
   },
   {
    "duration": 14,
    "start_time": "2025-04-29T01:40:16.725Z"
   },
   {
    "duration": 142,
    "start_time": "2025-04-29T01:40:24.105Z"
   },
   {
    "duration": 163,
    "start_time": "2025-04-29T01:40:55.566Z"
   },
   {
    "duration": 14,
    "start_time": "2025-04-29T01:41:19.448Z"
   },
   {
    "duration": 12,
    "start_time": "2025-04-29T01:41:37.514Z"
   },
   {
    "duration": 13,
    "start_time": "2025-04-29T01:42:29.976Z"
   },
   {
    "duration": 12,
    "start_time": "2025-04-29T01:44:25.252Z"
   },
   {
    "duration": 13,
    "start_time": "2025-04-29T01:44:39.321Z"
   },
   {
    "duration": 14,
    "start_time": "2025-04-29T01:44:44.050Z"
   },
   {
    "duration": 871,
    "start_time": "2025-04-29T01:45:11.427Z"
   },
   {
    "duration": 24,
    "start_time": "2025-04-29T01:45:12.300Z"
   },
   {
    "duration": 11,
    "start_time": "2025-04-29T01:45:12.326Z"
   },
   {
    "duration": 14,
    "start_time": "2025-04-29T01:45:12.340Z"
   },
   {
    "duration": 3,
    "start_time": "2025-04-29T01:45:12.355Z"
   },
   {
    "duration": 8,
    "start_time": "2025-04-29T01:45:12.360Z"
   },
   {
    "duration": 3,
    "start_time": "2025-04-29T01:45:12.370Z"
   },
   {
    "duration": 35,
    "start_time": "2025-04-29T01:45:12.375Z"
   },
   {
    "duration": 17,
    "start_time": "2025-04-29T01:45:12.412Z"
   },
   {
    "duration": 11,
    "start_time": "2025-04-29T01:45:12.432Z"
   },
   {
    "duration": 14,
    "start_time": "2025-04-29T01:45:12.445Z"
   },
   {
    "duration": 4,
    "start_time": "2025-04-29T01:45:12.462Z"
   },
   {
    "duration": 4,
    "start_time": "2025-04-29T01:45:12.468Z"
   },
   {
    "duration": 47,
    "start_time": "2025-04-29T01:45:12.473Z"
   },
   {
    "duration": 819,
    "start_time": "2025-04-29T01:45:43.289Z"
   },
   {
    "duration": 23,
    "start_time": "2025-04-29T01:45:44.111Z"
   },
   {
    "duration": 11,
    "start_time": "2025-04-29T01:45:44.136Z"
   },
   {
    "duration": 13,
    "start_time": "2025-04-29T01:45:44.149Z"
   },
   {
    "duration": 4,
    "start_time": "2025-04-29T01:45:44.165Z"
   },
   {
    "duration": 7,
    "start_time": "2025-04-29T01:45:44.171Z"
   },
   {
    "duration": 30,
    "start_time": "2025-04-29T01:45:44.180Z"
   },
   {
    "duration": 5,
    "start_time": "2025-04-29T01:45:44.212Z"
   },
   {
    "duration": 15,
    "start_time": "2025-04-29T01:45:44.218Z"
   },
   {
    "duration": 11,
    "start_time": "2025-04-29T01:45:44.235Z"
   },
   {
    "duration": 15,
    "start_time": "2025-04-29T01:45:44.247Z"
   },
   {
    "duration": 4,
    "start_time": "2025-04-29T01:45:44.263Z"
   },
   {
    "duration": 47,
    "start_time": "2025-04-29T01:45:44.270Z"
   },
   {
    "duration": 6,
    "start_time": "2025-04-29T01:49:51.102Z"
   },
   {
    "duration": 14,
    "start_time": "2025-04-29T01:50:15.734Z"
   },
   {
    "duration": 14,
    "start_time": "2025-04-29T01:50:28.120Z"
   },
   {
    "duration": 4,
    "start_time": "2025-04-29T01:50:41.158Z"
   },
   {
    "duration": 15,
    "start_time": "2025-04-29T01:53:48.303Z"
   },
   {
    "duration": 7,
    "start_time": "2025-04-29T01:54:00.277Z"
   },
   {
    "duration": 2863,
    "start_time": "2025-04-29T02:52:33.858Z"
   },
   {
    "duration": 40,
    "start_time": "2025-04-29T02:52:36.723Z"
   },
   {
    "duration": 14,
    "start_time": "2025-04-29T02:52:36.765Z"
   },
   {
    "duration": 16,
    "start_time": "2025-04-29T02:52:36.782Z"
   },
   {
    "duration": 19,
    "start_time": "2025-04-29T02:52:36.801Z"
   },
   {
    "duration": 10,
    "start_time": "2025-04-29T02:52:36.824Z"
   },
   {
    "duration": 6,
    "start_time": "2025-04-29T02:52:36.835Z"
   },
   {
    "duration": 5,
    "start_time": "2025-04-29T02:52:36.843Z"
   },
   {
    "duration": 20,
    "start_time": "2025-04-29T02:52:36.850Z"
   },
   {
    "duration": 14,
    "start_time": "2025-04-29T02:52:36.874Z"
   },
   {
    "duration": 16,
    "start_time": "2025-04-29T02:52:36.920Z"
   },
   {
    "duration": 6,
    "start_time": "2025-04-29T02:52:36.938Z"
   },
   {
    "duration": 16,
    "start_time": "2025-04-29T02:52:36.945Z"
   },
   {
    "duration": 4,
    "start_time": "2025-04-29T02:52:36.963Z"
   },
   {
    "duration": 5,
    "start_time": "2025-04-29T02:52:36.969Z"
   },
   {
    "duration": 6,
    "start_time": "2025-04-29T02:53:28.832Z"
   },
   {
    "duration": 135,
    "start_time": "2025-04-29T02:54:09.025Z"
   },
   {
    "duration": 265,
    "start_time": "2025-04-29T02:54:17.319Z"
   },
   {
    "duration": 1114,
    "start_time": "2025-04-29T02:54:23.410Z"
   },
   {
    "duration": 236,
    "start_time": "2025-04-29T02:54:39.928Z"
   },
   {
    "duration": 245,
    "start_time": "2025-04-29T02:55:53.773Z"
   },
   {
    "duration": 147,
    "start_time": "2025-04-29T02:55:58.997Z"
   },
   {
    "duration": 6,
    "start_time": "2025-04-29T02:56:10.672Z"
   },
   {
    "duration": 145,
    "start_time": "2025-04-29T02:56:22.154Z"
   },
   {
    "duration": 242,
    "start_time": "2025-04-29T02:57:13.243Z"
   },
   {
    "duration": 242,
    "start_time": "2025-04-29T02:57:25.243Z"
   },
   {
    "duration": 634,
    "start_time": "2025-04-29T02:57:31.853Z"
   },
   {
    "duration": 558,
    "start_time": "2025-04-29T02:59:00.540Z"
   },
   {
    "duration": 561,
    "start_time": "2025-04-29T02:59:11.698Z"
   },
   {
    "duration": 351,
    "start_time": "2025-04-29T02:59:49.036Z"
   },
   {
    "duration": 339,
    "start_time": "2025-04-29T03:00:27.424Z"
   },
   {
    "duration": 316,
    "start_time": "2025-04-29T03:01:28.378Z"
   },
   {
    "duration": 265,
    "start_time": "2025-04-29T03:03:20.165Z"
   },
   {
    "duration": 297,
    "start_time": "2025-04-29T03:05:16.843Z"
   },
   {
    "duration": 7,
    "start_time": "2025-04-29T03:05:30.965Z"
   },
   {
    "duration": 7,
    "start_time": "2025-04-29T03:05:41.107Z"
   },
   {
    "duration": 7,
    "start_time": "2025-04-29T03:06:30.401Z"
   },
   {
    "duration": 9,
    "start_time": "2025-04-29T03:06:40.443Z"
   },
   {
    "duration": 217,
    "start_time": "2025-04-29T03:06:52.956Z"
   },
   {
    "duration": 263,
    "start_time": "2025-04-29T03:08:14.804Z"
   },
   {
    "duration": 266,
    "start_time": "2025-04-29T03:08:46.228Z"
   },
   {
    "duration": 393,
    "start_time": "2025-04-29T03:09:03.576Z"
   },
   {
    "duration": 308,
    "start_time": "2025-04-29T03:09:28.414Z"
   },
   {
    "duration": 7,
    "start_time": "2025-04-29T03:13:06.102Z"
   },
   {
    "duration": 6,
    "start_time": "2025-04-29T03:13:53.589Z"
   },
   {
    "duration": 6,
    "start_time": "2025-04-29T03:14:13.191Z"
   },
   {
    "duration": 16,
    "start_time": "2025-04-29T03:14:40.996Z"
   },
   {
    "duration": 393,
    "start_time": "2025-04-29T03:14:51.821Z"
   },
   {
    "duration": 468,
    "start_time": "2025-04-29T03:16:22.302Z"
   },
   {
    "duration": 47,
    "start_time": "2025-04-29T03:16:26.865Z"
   },
   {
    "duration": 3,
    "start_time": "2025-04-29T03:17:52.553Z"
   },
   {
    "duration": 5,
    "start_time": "2025-04-29T03:18:13.431Z"
   },
   {
    "duration": 6,
    "start_time": "2025-04-29T03:18:24.156Z"
   },
   {
    "duration": 888,
    "start_time": "2025-04-29T03:19:27.439Z"
   },
   {
    "duration": 27,
    "start_time": "2025-04-29T03:19:28.330Z"
   },
   {
    "duration": 14,
    "start_time": "2025-04-29T03:19:28.358Z"
   },
   {
    "duration": 15,
    "start_time": "2025-04-29T03:19:28.374Z"
   },
   {
    "duration": 28,
    "start_time": "2025-04-29T03:19:28.392Z"
   },
   {
    "duration": 9,
    "start_time": "2025-04-29T03:19:28.422Z"
   },
   {
    "duration": 6,
    "start_time": "2025-04-29T03:19:28.433Z"
   },
   {
    "duration": 23,
    "start_time": "2025-04-29T03:19:28.441Z"
   },
   {
    "duration": 29,
    "start_time": "2025-04-29T03:19:28.466Z"
   },
   {
    "duration": 14,
    "start_time": "2025-04-29T03:19:28.497Z"
   },
   {
    "duration": 21,
    "start_time": "2025-04-29T03:19:28.513Z"
   },
   {
    "duration": 5,
    "start_time": "2025-04-29T03:19:28.537Z"
   },
   {
    "duration": 15,
    "start_time": "2025-04-29T03:19:28.544Z"
   },
   {
    "duration": 4,
    "start_time": "2025-04-29T03:19:28.562Z"
   },
   {
    "duration": 307,
    "start_time": "2025-04-29T03:19:28.568Z"
   },
   {
    "duration": 328,
    "start_time": "2025-04-29T03:19:28.876Z"
   },
   {
    "duration": 14,
    "start_time": "2025-04-29T03:19:29.207Z"
   },
   {
    "duration": 8,
    "start_time": "2025-04-29T03:19:29.223Z"
   },
   {
    "duration": 6,
    "start_time": "2025-04-29T03:20:09.283Z"
   },
   {
    "duration": 15,
    "start_time": "2025-04-29T03:20:11.675Z"
   },
   {
    "duration": 46,
    "start_time": "2025-04-29T03:22:36.851Z"
   },
   {
    "duration": 37,
    "start_time": "2025-04-29T03:23:01.617Z"
   },
   {
    "duration": 644,
    "start_time": "2025-04-29T03:23:50.992Z"
   },
   {
    "duration": 1104,
    "start_time": "2025-04-29T03:25:13.005Z"
   },
   {
    "duration": 41,
    "start_time": "2025-04-29T03:25:14.112Z"
   },
   {
    "duration": 17,
    "start_time": "2025-04-29T03:25:14.155Z"
   },
   {
    "duration": 25,
    "start_time": "2025-04-29T03:25:14.182Z"
   },
   {
    "duration": 5,
    "start_time": "2025-04-29T03:25:14.219Z"
   },
   {
    "duration": 9,
    "start_time": "2025-04-29T03:25:14.226Z"
   },
   {
    "duration": 4,
    "start_time": "2025-04-29T03:25:14.240Z"
   },
   {
    "duration": 6,
    "start_time": "2025-04-29T03:25:14.246Z"
   },
   {
    "duration": 20,
    "start_time": "2025-04-29T03:25:14.253Z"
   },
   {
    "duration": 49,
    "start_time": "2025-04-29T03:25:14.274Z"
   },
   {
    "duration": 23,
    "start_time": "2025-04-29T03:25:14.325Z"
   },
   {
    "duration": 6,
    "start_time": "2025-04-29T03:25:14.350Z"
   },
   {
    "duration": 18,
    "start_time": "2025-04-29T03:25:14.359Z"
   },
   {
    "duration": 5,
    "start_time": "2025-04-29T03:25:14.381Z"
   },
   {
    "duration": 426,
    "start_time": "2025-04-29T03:25:14.388Z"
   },
   {
    "duration": 362,
    "start_time": "2025-04-29T03:25:14.819Z"
   },
   {
    "duration": 6,
    "start_time": "2025-04-29T03:25:15.183Z"
   },
   {
    "duration": 447,
    "start_time": "2025-04-29T03:25:15.191Z"
   },
   {
    "duration": 991,
    "start_time": "2025-04-29T03:28:50.722Z"
   },
   {
    "duration": 40,
    "start_time": "2025-04-29T03:28:51.719Z"
   },
   {
    "duration": 20,
    "start_time": "2025-04-29T03:28:51.765Z"
   },
   {
    "duration": 22,
    "start_time": "2025-04-29T03:28:51.790Z"
   },
   {
    "duration": 9,
    "start_time": "2025-04-29T03:28:51.814Z"
   },
   {
    "duration": 8,
    "start_time": "2025-04-29T03:28:51.825Z"
   },
   {
    "duration": 4,
    "start_time": "2025-04-29T03:28:51.835Z"
   },
   {
    "duration": 7,
    "start_time": "2025-04-29T03:28:51.844Z"
   },
   {
    "duration": 24,
    "start_time": "2025-04-29T03:28:51.853Z"
   },
   {
    "duration": 39,
    "start_time": "2025-04-29T03:28:51.880Z"
   },
   {
    "duration": 24,
    "start_time": "2025-04-29T03:28:51.922Z"
   },
   {
    "duration": 6,
    "start_time": "2025-04-29T03:28:51.949Z"
   },
   {
    "duration": 22,
    "start_time": "2025-04-29T03:28:51.957Z"
   },
   {
    "duration": 4,
    "start_time": "2025-04-29T03:28:51.981Z"
   },
   {
    "duration": 376,
    "start_time": "2025-04-29T03:28:51.987Z"
   },
   {
    "duration": 444,
    "start_time": "2025-04-29T03:28:52.364Z"
   },
   {
    "duration": 10,
    "start_time": "2025-04-29T03:28:52.809Z"
   },
   {
    "duration": 212,
    "start_time": "2025-04-29T03:28:52.822Z"
   },
   {
    "duration": 290,
    "start_time": "2025-04-29T03:29:34.630Z"
   },
   {
    "duration": 326,
    "start_time": "2025-04-29T03:30:01.779Z"
   },
   {
    "duration": 325,
    "start_time": "2025-04-29T03:30:13.137Z"
   },
   {
    "duration": 346,
    "start_time": "2025-04-29T03:31:59.810Z"
   },
   {
    "duration": 5,
    "start_time": "2025-04-29T03:32:56.184Z"
   },
   {
    "duration": 421,
    "start_time": "2025-04-29T03:33:55.033Z"
   },
   {
    "duration": 326,
    "start_time": "2025-04-29T03:34:06.960Z"
   },
   {
    "duration": 4,
    "start_time": "2025-04-29T03:48:54.410Z"
   },
   {
    "duration": 8,
    "start_time": "2025-04-29T03:48:57.939Z"
   },
   {
    "duration": 7,
    "start_time": "2025-04-29T03:50:13.937Z"
   },
   {
    "duration": 7,
    "start_time": "2025-04-29T03:50:42.622Z"
   },
   {
    "duration": 7,
    "start_time": "2025-04-29T03:50:46.364Z"
   },
   {
    "duration": 7,
    "start_time": "2025-04-29T03:51:02.821Z"
   },
   {
    "duration": 7,
    "start_time": "2025-04-29T03:51:15.315Z"
   },
   {
    "duration": 8,
    "start_time": "2025-04-29T03:51:19.208Z"
   },
   {
    "duration": 16,
    "start_time": "2025-04-29T03:51:46.088Z"
   },
   {
    "duration": 16,
    "start_time": "2025-04-29T03:51:59.673Z"
   },
   {
    "duration": 20,
    "start_time": "2025-04-29T03:52:18.480Z"
   },
   {
    "duration": 16,
    "start_time": "2025-04-29T03:52:41.850Z"
   },
   {
    "duration": 246,
    "start_time": "2025-04-29T03:53:35.848Z"
   },
   {
    "duration": 21,
    "start_time": "2025-04-29T03:53:59.440Z"
   },
   {
    "duration": 17,
    "start_time": "2025-04-29T03:54:26.549Z"
   },
   {
    "duration": 11,
    "start_time": "2025-04-29T03:54:39.008Z"
   },
   {
    "duration": 20,
    "start_time": "2025-04-29T03:56:35.004Z"
   },
   {
    "duration": 18,
    "start_time": "2025-04-29T03:56:59.230Z"
   },
   {
    "duration": 534,
    "start_time": "2025-04-29T03:57:58.280Z"
   },
   {
    "duration": 13,
    "start_time": "2025-04-29T03:58:23.428Z"
   },
   {
    "duration": 14,
    "start_time": "2025-04-29T03:58:48.537Z"
   },
   {
    "duration": 13,
    "start_time": "2025-04-29T03:58:56.018Z"
   },
   {
    "duration": 2722,
    "start_time": "2025-04-29T18:04:29.959Z"
   },
   {
    "duration": 39,
    "start_time": "2025-04-29T18:04:32.684Z"
   },
   {
    "duration": 12,
    "start_time": "2025-04-29T18:04:32.725Z"
   },
   {
    "duration": 14,
    "start_time": "2025-04-29T18:04:32.739Z"
   },
   {
    "duration": 3,
    "start_time": "2025-04-29T18:04:32.756Z"
   },
   {
    "duration": 6,
    "start_time": "2025-04-29T18:04:32.761Z"
   },
   {
    "duration": 4,
    "start_time": "2025-04-29T18:04:32.769Z"
   },
   {
    "duration": 5,
    "start_time": "2025-04-29T18:04:32.774Z"
   },
   {
    "duration": 52,
    "start_time": "2025-04-29T18:04:32.781Z"
   },
   {
    "duration": 12,
    "start_time": "2025-04-29T18:04:32.835Z"
   },
   {
    "duration": 14,
    "start_time": "2025-04-29T18:04:32.850Z"
   },
   {
    "duration": 4,
    "start_time": "2025-04-29T18:04:32.866Z"
   },
   {
    "duration": 11,
    "start_time": "2025-04-29T18:04:32.872Z"
   },
   {
    "duration": 8,
    "start_time": "2025-04-29T18:04:32.919Z"
   },
   {
    "duration": 306,
    "start_time": "2025-04-29T18:04:32.929Z"
   },
   {
    "duration": 244,
    "start_time": "2025-04-29T18:04:33.238Z"
   },
   {
    "duration": 6,
    "start_time": "2025-04-29T18:04:33.484Z"
   },
   {
    "duration": 351,
    "start_time": "2025-04-29T18:04:33.492Z"
   },
   {
    "duration": 19,
    "start_time": "2025-04-29T18:04:33.845Z"
   },
   {
    "duration": 13,
    "start_time": "2025-04-29T18:16:48.239Z"
   },
   {
    "duration": 13,
    "start_time": "2025-04-29T18:17:11.017Z"
   },
   {
    "duration": 271,
    "start_time": "2025-04-29T18:18:12.624Z"
   },
   {
    "duration": 13,
    "start_time": "2025-04-29T18:18:30.144Z"
   },
   {
    "duration": 14,
    "start_time": "2025-04-29T18:31:54.366Z"
   },
   {
    "duration": 42,
    "start_time": "2025-04-29T18:32:18.679Z"
   },
   {
    "duration": 14,
    "start_time": "2025-04-29T18:32:48.400Z"
   },
   {
    "duration": 17,
    "start_time": "2025-04-29T18:34:02.196Z"
   },
   {
    "duration": 22,
    "start_time": "2025-04-29T18:34:11.317Z"
   },
   {
    "duration": 91,
    "start_time": "2025-04-29T18:34:32.365Z"
   },
   {
    "duration": 18,
    "start_time": "2025-04-29T18:34:46.042Z"
   },
   {
    "duration": 6,
    "start_time": "2025-04-29T18:59:40.741Z"
   },
   {
    "duration": 324,
    "start_time": "2025-04-29T18:59:44.902Z"
   },
   {
    "duration": 18,
    "start_time": "2025-04-29T19:00:14.447Z"
   },
   {
    "duration": 14,
    "start_time": "2025-04-29T19:00:35.978Z"
   },
   {
    "duration": 12,
    "start_time": "2025-04-29T19:00:43.415Z"
   },
   {
    "duration": 13,
    "start_time": "2025-04-29T19:01:00.249Z"
   },
   {
    "duration": 13,
    "start_time": "2025-04-29T19:04:20.676Z"
   },
   {
    "duration": 13,
    "start_time": "2025-04-29T19:04:23.031Z"
   },
   {
    "duration": 15,
    "start_time": "2025-04-29T19:04:35.680Z"
   },
   {
    "duration": 13,
    "start_time": "2025-04-29T19:05:04.024Z"
   },
   {
    "duration": 15,
    "start_time": "2025-04-29T19:08:40.099Z"
   },
   {
    "duration": 15,
    "start_time": "2025-04-29T19:08:50.231Z"
   },
   {
    "duration": 15,
    "start_time": "2025-04-29T19:09:57.518Z"
   },
   {
    "duration": 15,
    "start_time": "2025-04-29T19:10:12.858Z"
   },
   {
    "duration": 15,
    "start_time": "2025-04-29T19:10:29.502Z"
   },
   {
    "duration": 18,
    "start_time": "2025-04-29T19:33:42.243Z"
   },
   {
    "duration": 19,
    "start_time": "2025-04-29T19:39:04.980Z"
   },
   {
    "duration": 20,
    "start_time": "2025-04-29T19:40:22.825Z"
   },
   {
    "duration": 22,
    "start_time": "2025-04-29T19:42:30.004Z"
   },
   {
    "duration": 20,
    "start_time": "2025-04-29T19:43:42.952Z"
   },
   {
    "duration": 22,
    "start_time": "2025-04-29T19:44:20.031Z"
   },
   {
    "duration": 20,
    "start_time": "2025-04-29T19:44:32.688Z"
   },
   {
    "duration": 19,
    "start_time": "2025-04-29T19:44:46.114Z"
   },
   {
    "duration": 21,
    "start_time": "2025-04-29T19:44:58.852Z"
   },
   {
    "duration": 516,
    "start_time": "2025-04-29T19:46:08.882Z"
   },
   {
    "duration": 530,
    "start_time": "2025-04-29T19:46:30.052Z"
   },
   {
    "duration": 30,
    "start_time": "2025-04-29T19:46:52.224Z"
   },
   {
    "duration": 20,
    "start_time": "2025-04-29T19:49:13.616Z"
   },
   {
    "duration": 24,
    "start_time": "2025-04-29T19:50:10.706Z"
   },
   {
    "duration": 25,
    "start_time": "2025-04-29T19:50:26.019Z"
   },
   {
    "duration": 756,
    "start_time": "2025-04-29T19:50:34.101Z"
   },
   {
    "duration": 23,
    "start_time": "2025-04-29T19:50:34.859Z"
   },
   {
    "duration": 11,
    "start_time": "2025-04-29T19:50:34.884Z"
   },
   {
    "duration": 29,
    "start_time": "2025-04-29T19:50:34.896Z"
   },
   {
    "duration": 2,
    "start_time": "2025-04-29T19:50:34.927Z"
   },
   {
    "duration": 6,
    "start_time": "2025-04-29T19:50:34.931Z"
   },
   {
    "duration": 4,
    "start_time": "2025-04-29T19:50:34.938Z"
   },
   {
    "duration": 6,
    "start_time": "2025-04-29T19:50:34.943Z"
   },
   {
    "duration": 16,
    "start_time": "2025-04-29T19:50:34.950Z"
   },
   {
    "duration": 11,
    "start_time": "2025-04-29T19:50:34.969Z"
   },
   {
    "duration": 50,
    "start_time": "2025-04-29T19:50:34.981Z"
   },
   {
    "duration": 4,
    "start_time": "2025-04-29T19:50:35.032Z"
   },
   {
    "duration": 11,
    "start_time": "2025-04-29T19:50:35.038Z"
   },
   {
    "duration": 3,
    "start_time": "2025-04-29T19:50:35.051Z"
   },
   {
    "duration": 290,
    "start_time": "2025-04-29T19:50:35.055Z"
   },
   {
    "duration": 281,
    "start_time": "2025-04-29T19:50:35.347Z"
   },
   {
    "duration": 6,
    "start_time": "2025-04-29T19:50:35.630Z"
   },
   {
    "duration": 310,
    "start_time": "2025-04-29T19:50:35.638Z"
   },
   {
    "duration": 24,
    "start_time": "2025-04-29T19:50:35.950Z"
   },
   {
    "duration": 21,
    "start_time": "2025-04-29T19:51:36.769Z"
   },
   {
    "duration": 21,
    "start_time": "2025-04-29T19:52:11.035Z"
   },
   {
    "duration": 11,
    "start_time": "2025-04-29T19:53:21.108Z"
   },
   {
    "duration": 13,
    "start_time": "2025-04-29T19:53:24.643Z"
   },
   {
    "duration": 2549,
    "start_time": "2025-05-01T22:46:47.736Z"
   },
   {
    "duration": 34,
    "start_time": "2025-05-01T22:46:50.287Z"
   },
   {
    "duration": 12,
    "start_time": "2025-05-01T22:46:50.322Z"
   },
   {
    "duration": 20,
    "start_time": "2025-05-01T22:46:50.336Z"
   },
   {
    "duration": 3,
    "start_time": "2025-05-01T22:46:50.358Z"
   },
   {
    "duration": 7,
    "start_time": "2025-05-01T22:46:50.362Z"
   },
   {
    "duration": 3,
    "start_time": "2025-05-01T22:46:50.371Z"
   },
   {
    "duration": 4,
    "start_time": "2025-05-01T22:46:50.376Z"
   },
   {
    "duration": 14,
    "start_time": "2025-05-01T22:46:50.382Z"
   },
   {
    "duration": 45,
    "start_time": "2025-05-01T22:46:50.399Z"
   },
   {
    "duration": 15,
    "start_time": "2025-05-01T22:46:50.446Z"
   },
   {
    "duration": 5,
    "start_time": "2025-05-01T22:46:50.462Z"
   },
   {
    "duration": 10,
    "start_time": "2025-05-01T22:46:50.468Z"
   },
   {
    "duration": 4,
    "start_time": "2025-05-01T22:46:50.479Z"
   },
   {
    "duration": 302,
    "start_time": "2025-05-01T22:46:50.485Z"
   },
   {
    "duration": 233,
    "start_time": "2025-05-01T22:46:50.790Z"
   },
   {
    "duration": 5,
    "start_time": "2025-05-01T22:46:51.026Z"
   },
   {
    "duration": 314,
    "start_time": "2025-05-01T22:46:51.043Z"
   },
   {
    "duration": 13,
    "start_time": "2025-05-01T22:46:51.359Z"
   },
   {
    "duration": 12,
    "start_time": "2025-05-01T22:46:51.374Z"
   },
   {
    "duration": 5,
    "start_time": "2025-05-01T22:52:05.179Z"
   },
   {
    "duration": 11,
    "start_time": "2025-05-01T22:52:14.958Z"
   },
   {
    "duration": 11,
    "start_time": "2025-05-01T22:52:30.618Z"
   },
   {
    "duration": 12,
    "start_time": "2025-05-01T22:52:39.995Z"
   },
   {
    "duration": 5,
    "start_time": "2025-05-01T22:52:59.664Z"
   },
   {
    "duration": 7,
    "start_time": "2025-05-01T22:54:37.682Z"
   },
   {
    "duration": 99,
    "start_time": "2025-05-01T22:54:41.027Z"
   },
   {
    "duration": 152,
    "start_time": "2025-05-01T22:55:13.862Z"
   },
   {
    "duration": 99,
    "start_time": "2025-05-01T22:55:42.332Z"
   },
   {
    "duration": 97,
    "start_time": "2025-05-01T22:55:56.182Z"
   },
   {
    "duration": 13,
    "start_time": "2025-05-01T22:56:01.741Z"
   },
   {
    "duration": 13,
    "start_time": "2025-05-01T22:56:24.835Z"
   },
   {
    "duration": 119,
    "start_time": "2025-05-01T22:56:34.019Z"
   },
   {
    "duration": 16,
    "start_time": "2025-05-01T22:56:41.069Z"
   },
   {
    "duration": 667,
    "start_time": "2025-05-01T22:58:18.670Z"
   },
   {
    "duration": 375,
    "start_time": "2025-05-01T22:58:29.354Z"
   },
   {
    "duration": 449,
    "start_time": "2025-05-01T23:01:37.907Z"
   },
   {
    "duration": 407,
    "start_time": "2025-05-01T23:02:17.931Z"
   },
   {
    "duration": 607,
    "start_time": "2025-05-01T23:02:22.115Z"
   },
   {
    "duration": 7,
    "start_time": "2025-05-01T23:02:50.679Z"
   },
   {
    "duration": 221,
    "start_time": "2025-05-01T23:02:58.546Z"
   },
   {
    "duration": 610,
    "start_time": "2025-05-01T23:03:16.191Z"
   },
   {
    "duration": 272,
    "start_time": "2025-05-01T23:05:40.721Z"
   },
   {
    "duration": 266,
    "start_time": "2025-05-01T23:06:45.900Z"
   },
   {
    "duration": 25,
    "start_time": "2025-05-01T23:06:52.677Z"
   },
   {
    "duration": 282,
    "start_time": "2025-05-01T23:07:06.583Z"
   },
   {
    "duration": 273,
    "start_time": "2025-05-01T23:08:02.186Z"
   },
   {
    "duration": 511,
    "start_time": "2025-05-01T23:08:22.095Z"
   },
   {
    "duration": 262,
    "start_time": "2025-05-01T23:08:26.534Z"
   },
   {
    "duration": 845,
    "start_time": "2025-05-01T23:10:53.723Z"
   },
   {
    "duration": 31,
    "start_time": "2025-05-01T23:10:54.571Z"
   },
   {
    "duration": 12,
    "start_time": "2025-05-01T23:10:54.604Z"
   },
   {
    "duration": 38,
    "start_time": "2025-05-01T23:10:54.618Z"
   },
   {
    "duration": 4,
    "start_time": "2025-05-01T23:10:54.659Z"
   },
   {
    "duration": 8,
    "start_time": "2025-05-01T23:10:54.666Z"
   },
   {
    "duration": 4,
    "start_time": "2025-05-01T23:10:54.676Z"
   },
   {
    "duration": 6,
    "start_time": "2025-05-01T23:10:54.682Z"
   },
   {
    "duration": 14,
    "start_time": "2025-05-01T23:10:54.690Z"
   },
   {
    "duration": 42,
    "start_time": "2025-05-01T23:10:54.707Z"
   },
   {
    "duration": 20,
    "start_time": "2025-05-01T23:10:54.751Z"
   },
   {
    "duration": 7,
    "start_time": "2025-05-01T23:10:54.773Z"
   },
   {
    "duration": 17,
    "start_time": "2025-05-01T23:10:54.782Z"
   },
   {
    "duration": 4,
    "start_time": "2025-05-01T23:10:54.801Z"
   },
   {
    "duration": 317,
    "start_time": "2025-05-01T23:10:54.807Z"
   },
   {
    "duration": 349,
    "start_time": "2025-05-01T23:10:55.126Z"
   },
   {
    "duration": 6,
    "start_time": "2025-05-01T23:10:55.478Z"
   },
   {
    "duration": 369,
    "start_time": "2025-05-01T23:10:55.487Z"
   },
   {
    "duration": 22,
    "start_time": "2025-05-01T23:10:55.858Z"
   },
   {
    "duration": 13,
    "start_time": "2025-05-01T23:10:55.885Z"
   },
   {
    "duration": 312,
    "start_time": "2025-05-01T23:10:55.899Z"
   },
   {
    "duration": 6,
    "start_time": "2025-05-01T23:32:34.404Z"
   },
   {
    "duration": 188,
    "start_time": "2025-05-01T23:34:42.540Z"
   },
   {
    "duration": 205,
    "start_time": "2025-05-01T23:35:30.967Z"
   },
   {
    "duration": 214,
    "start_time": "2025-05-01T23:35:51.355Z"
   },
   {
    "duration": 275,
    "start_time": "2025-05-01T23:36:05.516Z"
   },
   {
    "duration": 544,
    "start_time": "2025-05-01T23:36:30.055Z"
   },
   {
    "duration": 418,
    "start_time": "2025-05-01T23:36:33.696Z"
   },
   {
    "duration": 274,
    "start_time": "2025-05-01T23:36:39.272Z"
   },
   {
    "duration": 337,
    "start_time": "2025-05-01T23:36:48.050Z"
   },
   {
    "duration": 1237,
    "start_time": "2025-05-01T23:36:58.945Z"
   },
   {
    "duration": 949,
    "start_time": "2025-05-01T23:37:22.678Z"
   },
   {
    "duration": 1056,
    "start_time": "2025-05-01T23:37:45.568Z"
   },
   {
    "duration": 1148,
    "start_time": "2025-05-01T23:38:28.738Z"
   },
   {
    "duration": 700,
    "start_time": "2025-05-01T23:38:41.067Z"
   },
   {
    "duration": 325,
    "start_time": "2025-05-01T23:39:14.564Z"
   },
   {
    "duration": 278,
    "start_time": "2025-05-01T23:39:28.531Z"
   },
   {
    "duration": 450,
    "start_time": "2025-05-01T23:39:47.591Z"
   },
   {
    "duration": 307,
    "start_time": "2025-05-01T23:40:08.377Z"
   },
   {
    "duration": 731,
    "start_time": "2025-05-01T23:40:24.794Z"
   },
   {
    "duration": 230,
    "start_time": "2025-05-01T23:41:19.275Z"
   },
   {
    "duration": 250,
    "start_time": "2025-05-01T23:41:25.025Z"
   },
   {
    "duration": 437,
    "start_time": "2025-05-01T23:41:42.987Z"
   },
   {
    "duration": 277,
    "start_time": "2025-05-01T23:42:14.007Z"
   },
   {
    "duration": 895,
    "start_time": "2025-05-01T23:43:10.018Z"
   },
   {
    "duration": 744,
    "start_time": "2025-05-01T23:43:39.830Z"
   },
   {
    "duration": 805,
    "start_time": "2025-05-01T23:53:01.784Z"
   },
   {
    "duration": 5,
    "start_time": "2025-05-01T23:58:00.221Z"
   },
   {
    "duration": 12,
    "start_time": "2025-05-01T23:59:09.031Z"
   },
   {
    "duration": 4,
    "start_time": "2025-05-02T00:01:54.445Z"
   },
   {
    "duration": 3,
    "start_time": "2025-05-02T00:02:03.496Z"
   },
   {
    "duration": 3,
    "start_time": "2025-05-02T00:02:28.333Z"
   },
   {
    "duration": 5,
    "start_time": "2025-05-02T00:02:54.328Z"
   },
   {
    "duration": 4,
    "start_time": "2025-05-02T00:03:03.227Z"
   },
   {
    "duration": 4,
    "start_time": "2025-05-02T00:03:07.872Z"
   },
   {
    "duration": 4,
    "start_time": "2025-05-02T00:03:32.339Z"
   },
   {
    "duration": 5,
    "start_time": "2025-05-02T00:03:38.726Z"
   },
   {
    "duration": 112,
    "start_time": "2025-05-02T00:04:47.119Z"
   },
   {
    "duration": 136,
    "start_time": "2025-05-02T00:06:49.851Z"
   },
   {
    "duration": 150,
    "start_time": "2025-05-02T00:07:11.107Z"
   },
   {
    "duration": 164,
    "start_time": "2025-05-02T00:07:19.723Z"
   },
   {
    "duration": 157,
    "start_time": "2025-05-02T00:08:53.914Z"
   },
   {
    "duration": 163,
    "start_time": "2025-05-02T00:09:42.929Z"
   },
   {
    "duration": 787,
    "start_time": "2025-05-02T00:09:59.751Z"
   },
   {
    "duration": 27,
    "start_time": "2025-05-02T00:10:00.540Z"
   },
   {
    "duration": 13,
    "start_time": "2025-05-02T00:10:00.568Z"
   },
   {
    "duration": 13,
    "start_time": "2025-05-02T00:10:00.583Z"
   },
   {
    "duration": 3,
    "start_time": "2025-05-02T00:10:00.598Z"
   },
   {
    "duration": 6,
    "start_time": "2025-05-02T00:10:00.604Z"
   },
   {
    "duration": 37,
    "start_time": "2025-05-02T00:10:00.611Z"
   },
   {
    "duration": 5,
    "start_time": "2025-05-02T00:10:00.650Z"
   },
   {
    "duration": 15,
    "start_time": "2025-05-02T00:10:00.657Z"
   },
   {
    "duration": 11,
    "start_time": "2025-05-02T00:10:00.675Z"
   },
   {
    "duration": 14,
    "start_time": "2025-05-02T00:10:00.688Z"
   },
   {
    "duration": 4,
    "start_time": "2025-05-02T00:10:00.703Z"
   },
   {
    "duration": 44,
    "start_time": "2025-05-02T00:10:00.709Z"
   },
   {
    "duration": 5,
    "start_time": "2025-05-02T00:10:00.754Z"
   },
   {
    "duration": 287,
    "start_time": "2025-05-02T00:10:00.761Z"
   },
   {
    "duration": 294,
    "start_time": "2025-05-02T00:10:01.049Z"
   },
   {
    "duration": 6,
    "start_time": "2025-05-02T00:10:01.345Z"
   },
   {
    "duration": 341,
    "start_time": "2025-05-02T00:10:01.353Z"
   },
   {
    "duration": 13,
    "start_time": "2025-05-02T00:10:01.696Z"
   },
   {
    "duration": 12,
    "start_time": "2025-05-02T00:10:01.710Z"
   },
   {
    "duration": 307,
    "start_time": "2025-05-02T00:10:01.724Z"
   },
   {
    "duration": 760,
    "start_time": "2025-05-02T00:10:02.034Z"
   },
   {
    "duration": 12,
    "start_time": "2025-05-02T00:10:02.795Z"
   },
   {
    "duration": 177,
    "start_time": "2025-05-02T00:10:02.809Z"
   },
   {
    "duration": 173,
    "start_time": "2025-05-02T00:10:02.988Z"
   },
   {
    "duration": 798,
    "start_time": "2025-05-02T00:10:24.428Z"
   },
   {
    "duration": 28,
    "start_time": "2025-05-02T00:10:25.228Z"
   },
   {
    "duration": 11,
    "start_time": "2025-05-02T00:10:25.257Z"
   },
   {
    "duration": 14,
    "start_time": "2025-05-02T00:10:25.270Z"
   },
   {
    "duration": 3,
    "start_time": "2025-05-02T00:10:25.285Z"
   },
   {
    "duration": 5,
    "start_time": "2025-05-02T00:10:25.290Z"
   },
   {
    "duration": 4,
    "start_time": "2025-05-02T00:10:25.297Z"
   },
   {
    "duration": 4,
    "start_time": "2025-05-02T00:10:25.304Z"
   },
   {
    "duration": 44,
    "start_time": "2025-05-02T00:10:25.311Z"
   },
   {
    "duration": 11,
    "start_time": "2025-05-02T00:10:25.357Z"
   },
   {
    "duration": 13,
    "start_time": "2025-05-02T00:10:25.370Z"
   },
   {
    "duration": 4,
    "start_time": "2025-05-02T00:10:25.385Z"
   },
   {
    "duration": 10,
    "start_time": "2025-05-02T00:10:25.390Z"
   },
   {
    "duration": 4,
    "start_time": "2025-05-02T00:10:25.402Z"
   },
   {
    "duration": 337,
    "start_time": "2025-05-02T00:10:25.407Z"
   },
   {
    "duration": 288,
    "start_time": "2025-05-02T00:10:25.746Z"
   },
   {
    "duration": 11,
    "start_time": "2025-05-02T00:10:26.036Z"
   },
   {
    "duration": 326,
    "start_time": "2025-05-02T00:10:26.048Z"
   },
   {
    "duration": 12,
    "start_time": "2025-05-02T00:10:26.376Z"
   },
   {
    "duration": 12,
    "start_time": "2025-05-02T00:10:26.390Z"
   },
   {
    "duration": 307,
    "start_time": "2025-05-02T00:10:26.404Z"
   },
   {
    "duration": 749,
    "start_time": "2025-05-02T00:10:26.713Z"
   },
   {
    "duration": 11,
    "start_time": "2025-05-02T00:10:27.464Z"
   },
   {
    "duration": 173,
    "start_time": "2025-05-02T00:10:27.477Z"
   },
   {
    "duration": 167,
    "start_time": "2025-05-02T00:10:27.652Z"
   },
   {
    "duration": 4,
    "start_time": "2025-05-02T00:10:43.368Z"
   },
   {
    "duration": 18,
    "start_time": "2025-05-02T00:25:28.781Z"
   },
   {
    "duration": 263,
    "start_time": "2025-05-02T00:26:08.343Z"
   },
   {
    "duration": 239,
    "start_time": "2025-05-02T00:26:40.781Z"
   },
   {
    "duration": 223,
    "start_time": "2025-05-02T00:27:14.921Z"
   },
   {
    "duration": 296,
    "start_time": "2025-05-02T00:28:34.805Z"
   },
   {
    "duration": 700,
    "start_time": "2025-05-02T00:28:38.347Z"
   },
   {
    "duration": 6,
    "start_time": "2025-05-02T00:30:53.934Z"
   },
   {
    "duration": 789,
    "start_time": "2025-05-02T00:31:18.972Z"
   },
   {
    "duration": 26,
    "start_time": "2025-05-02T00:31:19.763Z"
   },
   {
    "duration": 11,
    "start_time": "2025-05-02T00:31:19.791Z"
   },
   {
    "duration": 13,
    "start_time": "2025-05-02T00:31:19.805Z"
   },
   {
    "duration": 4,
    "start_time": "2025-05-02T00:31:19.820Z"
   },
   {
    "duration": 7,
    "start_time": "2025-05-02T00:31:19.843Z"
   },
   {
    "duration": 4,
    "start_time": "2025-05-02T00:31:19.852Z"
   },
   {
    "duration": 6,
    "start_time": "2025-05-02T00:31:19.858Z"
   },
   {
    "duration": 19,
    "start_time": "2025-05-02T00:31:19.866Z"
   },
   {
    "duration": 14,
    "start_time": "2025-05-02T00:31:19.888Z"
   },
   {
    "duration": 56,
    "start_time": "2025-05-02T00:31:19.903Z"
   },
   {
    "duration": 6,
    "start_time": "2025-05-02T00:31:19.963Z"
   },
   {
    "duration": 16,
    "start_time": "2025-05-02T00:31:19.970Z"
   },
   {
    "duration": 4,
    "start_time": "2025-05-02T00:31:19.989Z"
   },
   {
    "duration": 324,
    "start_time": "2025-05-02T00:31:19.995Z"
   },
   {
    "duration": 311,
    "start_time": "2025-05-02T00:31:20.321Z"
   },
   {
    "duration": 14,
    "start_time": "2025-05-02T00:31:20.634Z"
   },
   {
    "duration": 329,
    "start_time": "2025-05-02T00:31:20.650Z"
   },
   {
    "duration": 13,
    "start_time": "2025-05-02T00:31:20.981Z"
   },
   {
    "duration": 13,
    "start_time": "2025-05-02T00:31:20.995Z"
   },
   {
    "duration": 302,
    "start_time": "2025-05-02T00:31:21.009Z"
   },
   {
    "duration": 763,
    "start_time": "2025-05-02T00:31:21.313Z"
   },
   {
    "duration": 3,
    "start_time": "2025-05-02T00:31:22.078Z"
   },
   {
    "duration": 177,
    "start_time": "2025-05-02T00:31:22.083Z"
   },
   {
    "duration": 166,
    "start_time": "2025-05-02T00:31:22.261Z"
   },
   {
    "duration": 105425,
    "start_time": "2025-05-02T00:31:22.429Z"
   },
   {
    "duration": 230,
    "start_time": "2025-05-02T00:34:54.700Z"
   },
   {
    "duration": 336,
    "start_time": "2025-05-02T00:35:07.510Z"
   },
   {
    "duration": 334,
    "start_time": "2025-05-02T00:35:26.301Z"
   },
   {
    "duration": 348,
    "start_time": "2025-05-02T00:36:58.654Z"
   },
   {
    "duration": 341,
    "start_time": "2025-05-02T00:37:34.058Z"
   },
   {
    "duration": 469,
    "start_time": "2025-05-02T00:38:29.317Z"
   },
   {
    "duration": 45,
    "start_time": "2025-05-02T00:40:29.517Z"
   },
   {
    "duration": 5,
    "start_time": "2025-05-02T00:40:37.464Z"
   },
   {
    "duration": 5,
    "start_time": "2025-05-02T00:40:40.086Z"
   },
   {
    "duration": 6,
    "start_time": "2025-05-02T00:42:06.876Z"
   },
   {
    "duration": 13,
    "start_time": "2025-05-02T00:43:53.695Z"
   },
   {
    "duration": 203,
    "start_time": "2025-05-02T00:44:17.997Z"
   },
   {
    "duration": 213,
    "start_time": "2025-05-02T00:44:40.320Z"
   },
   {
    "duration": 329,
    "start_time": "2025-05-02T00:44:52.637Z"
   },
   {
    "duration": 7423,
    "start_time": "2025-05-02T00:45:28.772Z"
   },
   {
    "duration": 398,
    "start_time": "2025-05-02T00:45:49.591Z"
   },
   {
    "duration": 312,
    "start_time": "2025-05-02T00:46:13.547Z"
   },
   {
    "duration": 476,
    "start_time": "2025-05-02T00:46:40.587Z"
   },
   {
    "duration": 786,
    "start_time": "2025-05-02T00:47:09.359Z"
   },
   {
    "duration": 1189,
    "start_time": "2025-05-02T00:47:17.202Z"
   },
   {
    "duration": 488,
    "start_time": "2025-05-02T00:50:00.657Z"
   },
   {
    "duration": 392,
    "start_time": "2025-05-02T00:50:19.405Z"
   },
   {
    "duration": 335,
    "start_time": "2025-05-02T00:50:29.594Z"
   },
   {
    "duration": 360,
    "start_time": "2025-05-02T00:50:38.944Z"
   },
   {
    "duration": 319,
    "start_time": "2025-05-02T00:50:47.491Z"
   },
   {
    "duration": 347,
    "start_time": "2025-05-02T00:50:55.598Z"
   },
   {
    "duration": 508,
    "start_time": "2025-05-02T00:51:28.631Z"
   },
   {
    "duration": 338,
    "start_time": "2025-05-02T00:51:39.064Z"
   },
   {
    "duration": 621,
    "start_time": "2025-05-02T00:52:04.728Z"
   },
   {
    "duration": 568,
    "start_time": "2025-05-02T00:52:27.248Z"
   },
   {
    "duration": 350,
    "start_time": "2025-05-02T00:53:03.843Z"
   },
   {
    "duration": 366,
    "start_time": "2025-05-02T00:53:19.849Z"
   },
   {
    "duration": 535,
    "start_time": "2025-05-02T00:53:37.542Z"
   },
   {
    "duration": 2535,
    "start_time": "2025-05-02T01:36:45.547Z"
   },
   {
    "duration": 34,
    "start_time": "2025-05-02T01:36:48.084Z"
   },
   {
    "duration": 11,
    "start_time": "2025-05-02T01:36:48.120Z"
   },
   {
    "duration": 17,
    "start_time": "2025-05-02T01:36:48.133Z"
   },
   {
    "duration": 3,
    "start_time": "2025-05-02T01:36:48.152Z"
   },
   {
    "duration": 6,
    "start_time": "2025-05-02T01:36:48.157Z"
   },
   {
    "duration": 4,
    "start_time": "2025-05-02T01:36:48.164Z"
   },
   {
    "duration": 5,
    "start_time": "2025-05-02T01:36:48.169Z"
   },
   {
    "duration": 14,
    "start_time": "2025-05-02T01:36:48.175Z"
   },
   {
    "duration": 10,
    "start_time": "2025-05-02T01:36:48.192Z"
   },
   {
    "duration": 49,
    "start_time": "2025-05-02T01:36:48.204Z"
   },
   {
    "duration": 4,
    "start_time": "2025-05-02T01:36:48.254Z"
   },
   {
    "duration": 11,
    "start_time": "2025-05-02T01:36:48.260Z"
   },
   {
    "duration": 4,
    "start_time": "2025-05-02T01:36:48.273Z"
   },
   {
    "duration": 307,
    "start_time": "2025-05-02T01:36:48.279Z"
   },
   {
    "duration": 245,
    "start_time": "2025-05-02T01:36:48.589Z"
   },
   {
    "duration": 10,
    "start_time": "2025-05-02T01:36:48.837Z"
   },
   {
    "duration": 353,
    "start_time": "2025-05-02T01:36:48.849Z"
   },
   {
    "duration": 13,
    "start_time": "2025-05-02T01:36:49.204Z"
   },
   {
    "duration": 27,
    "start_time": "2025-05-02T01:36:49.219Z"
   },
   {
    "duration": 287,
    "start_time": "2025-05-02T01:36:49.248Z"
   },
   {
    "duration": 774,
    "start_time": "2025-05-02T01:36:49.537Z"
   },
   {
    "duration": 4,
    "start_time": "2025-05-02T01:36:50.313Z"
   },
   {
    "duration": 177,
    "start_time": "2025-05-02T01:36:50.319Z"
   },
   {
    "duration": 176,
    "start_time": "2025-05-02T01:36:50.498Z"
   },
   {
    "duration": 352,
    "start_time": "2025-05-02T01:36:50.676Z"
   },
   {
    "duration": 6,
    "start_time": "2025-05-02T01:42:19.244Z"
   },
   {
    "duration": 6,
    "start_time": "2025-05-02T01:42:26.354Z"
   },
   {
    "duration": 102,
    "start_time": "2025-05-02T01:42:39.941Z"
   },
   {
    "duration": 118,
    "start_time": "2025-05-02T01:43:17.331Z"
   },
   {
    "duration": 215,
    "start_time": "2025-05-02T01:43:58.889Z"
   },
   {
    "duration": 170,
    "start_time": "2025-05-02T01:44:13.544Z"
   },
   {
    "duration": 183,
    "start_time": "2025-05-02T01:44:30.041Z"
   },
   {
    "duration": 167,
    "start_time": "2025-05-02T01:44:41.847Z"
   },
   {
    "duration": 312,
    "start_time": "2025-05-02T01:47:51.839Z"
   },
   {
    "duration": 234,
    "start_time": "2025-05-02T01:48:14.410Z"
   },
   {
    "duration": 431,
    "start_time": "2025-05-02T01:48:26.615Z"
   },
   {
    "duration": 333,
    "start_time": "2025-05-02T01:49:31.339Z"
   },
   {
    "duration": 8,
    "start_time": "2025-05-02T01:59:19.206Z"
   },
   {
    "duration": 9,
    "start_time": "2025-05-02T01:59:32.489Z"
   },
   {
    "duration": 15,
    "start_time": "2025-05-02T02:00:05.138Z"
   },
   {
    "duration": 11,
    "start_time": "2025-05-02T02:01:39.791Z"
   },
   {
    "duration": 12,
    "start_time": "2025-05-02T02:01:51.186Z"
   },
   {
    "duration": 13,
    "start_time": "2025-05-02T02:04:59.662Z"
   },
   {
    "duration": 13,
    "start_time": "2025-05-02T02:05:04.610Z"
   },
   {
    "duration": 16,
    "start_time": "2025-05-02T02:05:13.613Z"
   },
   {
    "duration": 23,
    "start_time": "2025-05-02T02:06:33.392Z"
   },
   {
    "duration": 415,
    "start_time": "2025-05-02T02:06:41.919Z"
   },
   {
    "duration": 15,
    "start_time": "2025-05-02T02:06:51.533Z"
   },
   {
    "duration": 21,
    "start_time": "2025-05-02T02:06:59.935Z"
   },
   {
    "duration": 17,
    "start_time": "2025-05-02T02:07:30.186Z"
   },
   {
    "duration": 130,
    "start_time": "2025-05-02T02:07:54.836Z"
   },
   {
    "duration": 155,
    "start_time": "2025-05-02T02:08:05.125Z"
   },
   {
    "duration": 186,
    "start_time": "2025-05-02T02:09:28.163Z"
   },
   {
    "duration": 181,
    "start_time": "2025-05-02T02:10:19.264Z"
   },
   {
    "duration": 182,
    "start_time": "2025-05-02T02:10:42.273Z"
   },
   {
    "duration": 185,
    "start_time": "2025-05-02T02:10:52.179Z"
   },
   {
    "duration": 197,
    "start_time": "2025-05-02T02:11:12.923Z"
   },
   {
    "duration": 7,
    "start_time": "2025-05-02T02:11:29.429Z"
   },
   {
    "duration": 190,
    "start_time": "2025-05-02T02:11:42.103Z"
   },
   {
    "duration": 189,
    "start_time": "2025-05-02T02:11:47.973Z"
   },
   {
    "duration": 188,
    "start_time": "2025-05-02T02:11:51.396Z"
   },
   {
    "duration": 22,
    "start_time": "2025-05-02T02:12:20.682Z"
   },
   {
    "duration": 194,
    "start_time": "2025-05-02T02:12:31.176Z"
   },
   {
    "duration": 218,
    "start_time": "2025-05-02T02:13:53.343Z"
   },
   {
    "duration": 316,
    "start_time": "2025-05-02T02:14:07.469Z"
   },
   {
    "duration": 199,
    "start_time": "2025-05-02T02:14:11.218Z"
   },
   {
    "duration": 198,
    "start_time": "2025-05-02T02:14:32.782Z"
   },
   {
    "duration": 195,
    "start_time": "2025-05-02T02:15:40.650Z"
   },
   {
    "duration": 33,
    "start_time": "2025-05-02T02:22:23.102Z"
   },
   {
    "duration": 75,
    "start_time": "2025-05-02T02:22:58.249Z"
   },
   {
    "duration": 198,
    "start_time": "2025-05-02T02:23:24.206Z"
   },
   {
    "duration": 216,
    "start_time": "2025-05-02T02:24:12.872Z"
   },
   {
    "duration": 202,
    "start_time": "2025-05-02T02:31:16.467Z"
   },
   {
    "duration": 198,
    "start_time": "2025-05-02T02:32:33.993Z"
   },
   {
    "duration": 15,
    "start_time": "2025-05-02T02:32:52.215Z"
   },
   {
    "duration": 189,
    "start_time": "2025-05-02T02:32:55.286Z"
   },
   {
    "duration": 199,
    "start_time": "2025-05-02T02:33:34.647Z"
   },
   {
    "duration": 198,
    "start_time": "2025-05-02T02:33:55.167Z"
   },
   {
    "duration": 198,
    "start_time": "2025-05-02T02:36:05.148Z"
   },
   {
    "duration": 202,
    "start_time": "2025-05-02T02:36:46.041Z"
   },
   {
    "duration": 206,
    "start_time": "2025-05-02T02:36:52.872Z"
   },
   {
    "duration": 22,
    "start_time": "2025-05-02T02:52:03.220Z"
   },
   {
    "duration": 196,
    "start_time": "2025-05-02T02:52:37.601Z"
   },
   {
    "duration": 822,
    "start_time": "2025-05-02T02:53:01.658Z"
   },
   {
    "duration": 24,
    "start_time": "2025-05-02T02:53:02.482Z"
   },
   {
    "duration": 11,
    "start_time": "2025-05-02T02:53:02.508Z"
   },
   {
    "duration": 29,
    "start_time": "2025-05-02T02:53:02.520Z"
   },
   {
    "duration": 3,
    "start_time": "2025-05-02T02:53:02.552Z"
   },
   {
    "duration": 6,
    "start_time": "2025-05-02T02:53:02.556Z"
   },
   {
    "duration": 4,
    "start_time": "2025-05-02T02:53:02.564Z"
   },
   {
    "duration": 5,
    "start_time": "2025-05-02T02:53:02.569Z"
   },
   {
    "duration": 14,
    "start_time": "2025-05-02T02:53:02.576Z"
   },
   {
    "duration": 11,
    "start_time": "2025-05-02T02:53:02.592Z"
   },
   {
    "duration": 49,
    "start_time": "2025-05-02T02:53:02.604Z"
   },
   {
    "duration": 4,
    "start_time": "2025-05-02T02:53:02.655Z"
   },
   {
    "duration": 11,
    "start_time": "2025-05-02T02:53:02.661Z"
   },
   {
    "duration": 3,
    "start_time": "2025-05-02T02:53:02.675Z"
   },
   {
    "duration": 318,
    "start_time": "2025-05-02T02:53:02.680Z"
   },
   {
    "duration": 288,
    "start_time": "2025-05-02T02:53:03.000Z"
   },
   {
    "duration": 7,
    "start_time": "2025-05-02T02:53:03.290Z"
   },
   {
    "duration": 323,
    "start_time": "2025-05-02T02:53:03.299Z"
   },
   {
    "duration": 21,
    "start_time": "2025-05-02T02:53:03.624Z"
   },
   {
    "duration": 13,
    "start_time": "2025-05-02T02:53:03.647Z"
   },
   {
    "duration": 318,
    "start_time": "2025-05-02T02:53:03.661Z"
   },
   {
    "duration": 749,
    "start_time": "2025-05-02T02:53:03.981Z"
   },
   {
    "duration": 3,
    "start_time": "2025-05-02T02:53:04.742Z"
   },
   {
    "duration": 169,
    "start_time": "2025-05-02T02:53:04.747Z"
   },
   {
    "duration": 168,
    "start_time": "2025-05-02T02:53:04.918Z"
   },
   {
    "duration": 375,
    "start_time": "2025-05-02T02:53:05.087Z"
   },
   {
    "duration": 372,
    "start_time": "2025-05-02T02:53:05.464Z"
   },
   {
    "duration": 19,
    "start_time": "2025-05-02T02:53:05.838Z"
   },
   {
    "duration": 213,
    "start_time": "2025-05-02T02:53:05.859Z"
   },
   {
    "duration": 216,
    "start_time": "2025-05-02T02:53:06.074Z"
   },
   {
    "duration": 220,
    "start_time": "2025-05-02T02:53:06.291Z"
   },
   {
    "duration": 9,
    "start_time": "2025-05-02T02:53:43.460Z"
   },
   {
    "duration": 8,
    "start_time": "2025-05-02T02:54:29.396Z"
   },
   {
    "duration": 270,
    "start_time": "2025-05-02T02:54:59.438Z"
   },
   {
    "duration": 205,
    "start_time": "2025-05-02T02:55:40.511Z"
   },
   {
    "duration": 170,
    "start_time": "2025-05-02T02:56:10.953Z"
   },
   {
    "duration": 170,
    "start_time": "2025-05-02T02:56:55.212Z"
   },
   {
    "duration": 177,
    "start_time": "2025-05-02T02:58:05.794Z"
   },
   {
    "duration": 180,
    "start_time": "2025-05-02T02:58:37.767Z"
   },
   {
    "duration": 210,
    "start_time": "2025-05-02T03:00:25.508Z"
   },
   {
    "duration": 214,
    "start_time": "2025-05-02T03:00:52.046Z"
   },
   {
    "duration": 461,
    "start_time": "2025-05-02T03:01:27.412Z"
   },
   {
    "duration": 180,
    "start_time": "2025-05-02T03:01:55.877Z"
   },
   {
    "duration": 198,
    "start_time": "2025-05-02T03:02:06.710Z"
   },
   {
    "duration": 858,
    "start_time": "2025-05-02T03:10:12.159Z"
   },
   {
    "duration": 29,
    "start_time": "2025-05-02T03:10:13.020Z"
   },
   {
    "duration": 12,
    "start_time": "2025-05-02T03:10:13.051Z"
   },
   {
    "duration": 14,
    "start_time": "2025-05-02T03:10:13.064Z"
   },
   {
    "duration": 3,
    "start_time": "2025-05-02T03:10:13.080Z"
   },
   {
    "duration": 6,
    "start_time": "2025-05-02T03:10:13.084Z"
   },
   {
    "duration": 4,
    "start_time": "2025-05-02T03:10:13.093Z"
   },
   {
    "duration": 5,
    "start_time": "2025-05-02T03:10:13.098Z"
   },
   {
    "duration": 50,
    "start_time": "2025-05-02T03:10:13.104Z"
   },
   {
    "duration": 11,
    "start_time": "2025-05-02T03:10:13.157Z"
   },
   {
    "duration": 15,
    "start_time": "2025-05-02T03:10:13.170Z"
   },
   {
    "duration": 4,
    "start_time": "2025-05-02T03:10:13.186Z"
   },
   {
    "duration": 11,
    "start_time": "2025-05-02T03:10:13.192Z"
   },
   {
    "duration": 3,
    "start_time": "2025-05-02T03:10:13.205Z"
   },
   {
    "duration": 292,
    "start_time": "2025-05-02T03:10:13.243Z"
   },
   {
    "duration": 296,
    "start_time": "2025-05-02T03:10:13.542Z"
   },
   {
    "duration": 7,
    "start_time": "2025-05-02T03:10:13.839Z"
   },
   {
    "duration": 333,
    "start_time": "2025-05-02T03:10:13.848Z"
   },
   {
    "duration": 15,
    "start_time": "2025-05-02T03:10:14.183Z"
   },
   {
    "duration": 16,
    "start_time": "2025-05-02T03:10:14.200Z"
   },
   {
    "duration": 302,
    "start_time": "2025-05-02T03:10:14.217Z"
   },
   {
    "duration": 753,
    "start_time": "2025-05-02T03:10:14.521Z"
   },
   {
    "duration": 5,
    "start_time": "2025-05-02T03:10:15.276Z"
   },
   {
    "duration": 174,
    "start_time": "2025-05-02T03:10:15.283Z"
   },
   {
    "duration": 168,
    "start_time": "2025-05-02T03:10:15.460Z"
   },
   {
    "duration": 356,
    "start_time": "2025-05-02T03:10:15.630Z"
   },
   {
    "duration": 350,
    "start_time": "2025-05-02T03:10:15.988Z"
   },
   {
    "duration": 18,
    "start_time": "2025-05-02T03:10:16.344Z"
   },
   {
    "duration": 198,
    "start_time": "2025-05-02T03:10:16.364Z"
   },
   {
    "duration": 208,
    "start_time": "2025-05-02T03:10:16.564Z"
   },
   {
    "duration": 214,
    "start_time": "2025-05-02T03:10:16.774Z"
   },
   {
    "duration": 292,
    "start_time": "2025-05-02T03:13:09.440Z"
   },
   {
    "duration": 3,
    "start_time": "2025-05-02T03:13:14.512Z"
   },
   {
    "duration": 3,
    "start_time": "2025-05-02T03:13:25.410Z"
   },
   {
    "duration": 4,
    "start_time": "2025-05-02T03:14:32.482Z"
   },
   {
    "duration": 216,
    "start_time": "2025-05-02T03:14:50.493Z"
   },
   {
    "duration": 5,
    "start_time": "2025-05-02T03:15:07.759Z"
   },
   {
    "duration": 5,
    "start_time": "2025-05-02T03:16:08.356Z"
   },
   {
    "duration": 4,
    "start_time": "2025-05-02T03:16:29.384Z"
   },
   {
    "duration": 4,
    "start_time": "2025-05-02T03:16:39.113Z"
   },
   {
    "duration": 8,
    "start_time": "2025-05-02T03:17:06.244Z"
   },
   {
    "duration": 9,
    "start_time": "2025-05-02T03:17:18.402Z"
   },
   {
    "duration": 8,
    "start_time": "2025-05-02T03:17:24.733Z"
   },
   {
    "duration": 8,
    "start_time": "2025-05-02T03:17:51.556Z"
   },
   {
    "duration": 10,
    "start_time": "2025-05-02T03:18:05.564Z"
   },
   {
    "duration": 11,
    "start_time": "2025-05-02T03:18:20.493Z"
   },
   {
    "duration": 7,
    "start_time": "2025-05-02T03:20:04.354Z"
   },
   {
    "duration": 7,
    "start_time": "2025-05-02T03:20:28.977Z"
   },
   {
    "duration": 7,
    "start_time": "2025-05-02T03:21:55.651Z"
   },
   {
    "duration": 7,
    "start_time": "2025-05-02T03:21:59.822Z"
   },
   {
    "duration": 8,
    "start_time": "2025-05-02T03:27:00.181Z"
   },
   {
    "duration": 2,
    "start_time": "2025-05-02T03:29:16.676Z"
   },
   {
    "duration": 3,
    "start_time": "2025-05-02T03:49:25.364Z"
   },
   {
    "duration": 820,
    "start_time": "2025-05-02T04:06:29.360Z"
   },
   {
    "duration": 26,
    "start_time": "2025-05-02T04:06:30.182Z"
   },
   {
    "duration": 12,
    "start_time": "2025-05-02T04:06:30.210Z"
   },
   {
    "duration": 19,
    "start_time": "2025-05-02T04:06:30.245Z"
   },
   {
    "duration": 5,
    "start_time": "2025-05-02T04:06:30.266Z"
   },
   {
    "duration": 7,
    "start_time": "2025-05-02T04:06:30.273Z"
   },
   {
    "duration": 4,
    "start_time": "2025-05-02T04:06:30.282Z"
   },
   {
    "duration": 5,
    "start_time": "2025-05-02T04:06:30.289Z"
   },
   {
    "duration": 20,
    "start_time": "2025-05-02T04:06:30.296Z"
   },
   {
    "duration": 17,
    "start_time": "2025-05-02T04:06:30.344Z"
   },
   {
    "duration": 15,
    "start_time": "2025-05-02T04:06:30.363Z"
   },
   {
    "duration": 5,
    "start_time": "2025-05-02T04:06:30.380Z"
   },
   {
    "duration": 10,
    "start_time": "2025-05-02T04:06:30.387Z"
   },
   {
    "duration": 4,
    "start_time": "2025-05-02T04:06:30.399Z"
   },
   {
    "duration": 314,
    "start_time": "2025-05-02T04:06:30.404Z"
   },
   {
    "duration": 288,
    "start_time": "2025-05-02T04:06:30.721Z"
   },
   {
    "duration": 5,
    "start_time": "2025-05-02T04:06:31.011Z"
   },
   {
    "duration": 337,
    "start_time": "2025-05-02T04:06:31.018Z"
   },
   {
    "duration": 13,
    "start_time": "2025-05-02T04:06:31.356Z"
   },
   {
    "duration": 12,
    "start_time": "2025-05-02T04:06:31.372Z"
   },
   {
    "duration": 310,
    "start_time": "2025-05-02T04:06:31.385Z"
   },
   {
    "duration": 805,
    "start_time": "2025-05-02T04:06:31.697Z"
   },
   {
    "duration": 3,
    "start_time": "2025-05-02T04:06:32.504Z"
   },
   {
    "duration": 178,
    "start_time": "2025-05-02T04:06:32.509Z"
   },
   {
    "duration": 172,
    "start_time": "2025-05-02T04:06:32.689Z"
   },
   {
    "duration": 366,
    "start_time": "2025-05-02T04:06:32.863Z"
   },
   {
    "duration": 360,
    "start_time": "2025-05-02T04:06:33.232Z"
   },
   {
    "duration": 17,
    "start_time": "2025-05-02T04:06:33.596Z"
   },
   {
    "duration": 202,
    "start_time": "2025-05-02T04:06:33.615Z"
   },
   {
    "duration": 217,
    "start_time": "2025-05-02T04:06:33.819Z"
   },
   {
    "duration": 213,
    "start_time": "2025-05-02T04:06:34.038Z"
   },
   {
    "duration": 7,
    "start_time": "2025-05-02T04:06:34.254Z"
   },
   {
    "duration": 7,
    "start_time": "2025-05-02T04:06:34.263Z"
   },
   {
    "duration": 2538,
    "start_time": "2025-06-13T02:19:39.214Z"
   },
   {
    "duration": 36,
    "start_time": "2025-06-13T02:19:41.754Z"
   },
   {
    "duration": 11,
    "start_time": "2025-06-13T02:19:41.792Z"
   },
   {
    "duration": 13,
    "start_time": "2025-06-13T02:19:41.805Z"
   },
   {
    "duration": 5,
    "start_time": "2025-06-13T02:19:41.820Z"
   },
   {
    "duration": 6,
    "start_time": "2025-06-13T02:19:41.826Z"
   },
   {
    "duration": 3,
    "start_time": "2025-06-13T02:19:41.834Z"
   },
   {
    "duration": 5,
    "start_time": "2025-06-13T02:19:41.840Z"
   },
   {
    "duration": 15,
    "start_time": "2025-06-13T02:19:41.847Z"
   },
   {
    "duration": 10,
    "start_time": "2025-06-13T02:19:41.863Z"
   },
   {
    "duration": 51,
    "start_time": "2025-06-13T02:19:41.875Z"
   },
   {
    "duration": 4,
    "start_time": "2025-06-13T02:19:41.928Z"
   },
   {
    "duration": 11,
    "start_time": "2025-06-13T02:19:41.934Z"
   },
   {
    "duration": 4,
    "start_time": "2025-06-13T02:19:41.949Z"
   },
   {
    "duration": 301,
    "start_time": "2025-06-13T02:19:41.954Z"
   },
   {
    "duration": 244,
    "start_time": "2025-06-13T02:19:42.256Z"
   },
   {
    "duration": 6,
    "start_time": "2025-06-13T02:19:42.502Z"
   },
   {
    "duration": 370,
    "start_time": "2025-06-13T02:19:42.509Z"
   },
   {
    "duration": 12,
    "start_time": "2025-06-13T02:19:42.881Z"
   },
   {
    "duration": 13,
    "start_time": "2025-06-13T02:19:42.895Z"
   },
   {
    "duration": 287,
    "start_time": "2025-06-13T02:19:42.925Z"
   },
   {
    "duration": 694,
    "start_time": "2025-06-13T02:19:43.214Z"
   },
   {
    "duration": 4,
    "start_time": "2025-06-13T02:19:43.910Z"
   },
   {
    "duration": 175,
    "start_time": "2025-06-13T02:19:43.915Z"
   },
   {
    "duration": 227,
    "start_time": "2025-06-13T02:19:44.091Z"
   },
   {
    "duration": 351,
    "start_time": "2025-06-13T02:19:44.323Z"
   },
   {
    "duration": 339,
    "start_time": "2025-06-13T02:19:44.676Z"
   },
   {
    "duration": 20,
    "start_time": "2025-06-13T02:19:45.017Z"
   },
   {
    "duration": 203,
    "start_time": "2025-06-13T02:19:45.039Z"
   },
   {
    "duration": 209,
    "start_time": "2025-06-13T02:19:45.244Z"
   },
   {
    "duration": 199,
    "start_time": "2025-06-13T02:19:45.455Z"
   },
   {
    "duration": 8,
    "start_time": "2025-06-13T02:19:45.656Z"
   },
   {
    "duration": 6,
    "start_time": "2025-06-13T02:19:45.666Z"
   }
  ],
  "kernelspec": {
   "display_name": "Python 3 (ipykernel)",
   "language": "python",
   "name": "python3"
  },
  "language_info": {
   "codemirror_mode": {
    "name": "ipython",
    "version": 3
   },
   "file_extension": ".py",
   "mimetype": "text/x-python",
   "name": "python",
   "nbconvert_exporter": "python",
   "pygments_lexer": "ipython3",
   "version": "3.9.19"
  },
  "toc": {
   "base_numbering": 1,
   "nav_menu": {},
   "number_sections": true,
   "sideBar": true,
   "skip_h1_title": true,
   "title_cell": "Table of Contents",
   "title_sidebar": "Contents",
   "toc_cell": false,
   "toc_position": {},
   "toc_section_display": true,
   "toc_window_display": false
  }
 },
 "nbformat": 4,
 "nbformat_minor": 2
}
